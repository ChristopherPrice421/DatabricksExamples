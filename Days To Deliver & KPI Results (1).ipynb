{
 "cells": [
  {
   "cell_type": "code",
   "execution_count": 0,
   "metadata": {
    "application/vnd.databricks.v1+cell": {
     "cellMetadata": {
      "byteLimit": 2048000,
      "rowLimit": 10000
     },
     "inputWidgets": {},
     "nuid": "8ea24ff3-a7f4-4e23-a42b-84a6ca576424",
     "showTitle": false,
     "title": ""
    }
   },
   "outputs": [],
   "source": [
    "%python\n",
    "\n",
    "POS_Countries =  spark.read.format(\"csv\").option(\"header\", \"true\").load(\"dbfs:/FileStore/shared_uploads/christopher_price1@next.co.uk/POS_Countries-1.csv\")\n",
    "SLAs =  spark.read.format(\"csv\").option(\"header\", \"true\").load(\"dbfs:/FileStore/shared_uploads/christopher_price1@next.co.uk/SLAs_week_13.csv\")\n",
    "WeekDaysList = spark.read.format(\"csv\").option(\"header\", \"true\").load(\"dbfs:/FileStore/shared_uploads/christopher_price1@next.co.uk/Country_Weekends-2.csv\")\n",
    "WeekDaysList.createOrReplaceTempView(\"WeekDaysList\")\n",
    "POS_Countries.createOrReplaceTempView(\"POS_Countries\")\n",
    "SLAs.createOrReplaceTempView(\"SLAs\")\n"
   ]
  },
  {
   "cell_type": "code",
   "execution_count": 0,
   "metadata": {
    "application/vnd.databricks.v1+cell": {
     "cellMetadata": {
      "byteLimit": 2048000,
      "implicitDf": true,
      "rowLimit": 10000
     },
     "inputWidgets": {},
     "nuid": "e696c171-a791-47ce-8690-b4fe88e57b64",
     "showTitle": false,
     "title": ""
    }
   },
   "outputs": [
    {
     "output_type": "display_data",
     "data": {
      "text/html": [
       "<style scoped>\n",
       "  .table-result-container {\n",
       "    max-height: 300px;\n",
       "    overflow: auto;\n",
       "  }\n",
       "  table, th, td {\n",
       "    border: 1px solid black;\n",
       "    border-collapse: collapse;\n",
       "  }\n",
       "  th, td {\n",
       "    padding: 5px;\n",
       "  }\n",
       "  th {\n",
       "    text-align: left;\n",
       "  }\n",
       "</style><div class='table-result-container'><table class='table-result'><thead style='background-color: white'><tr><th>num_affected_rows</th><th>num_inserted_rows</th></tr></thead><tbody></tbody></table></div>"
      ]
     },
     "metadata": {
      "application/vnd.databricks.v1+output": {
       "addedWidgets": {},
       "aggData": [],
       "aggError": "",
       "aggOverflow": false,
       "aggSchema": [],
       "aggSeriesLimitReached": false,
       "aggType": "",
       "arguments": {},
       "columnCustomDisplayInfos": {},
       "data": [],
       "datasetInfos": [],
       "dbfsResultPath": null,
       "isJsonSchema": true,
       "metadata": {},
       "overflow": false,
       "plotOptions": {
        "customPlotOptions": {},
        "displayType": "table",
        "pivotAggregation": null,
        "pivotColumns": null,
        "xColumns": null,
        "yColumns": null
       },
       "removedWidgets": [],
       "schema": [
        {
         "metadata": "{}",
         "name": "num_affected_rows",
         "type": "\"long\""
        },
        {
         "metadata": "{}",
         "name": "num_inserted_rows",
         "type": "\"long\""
        }
       ],
       "type": "table"
      }
     },
     "output_type": "display_data"
    }
   ],
   "source": [
    "%sql\n",
    "create or replace table Int_KPI_Detail as\n",
    "\n",
    "Select distinct \n",
    "\n",
    "KPI.*,\n",
    "ROW_NUMBER()over(partition by parcel_barcode order by target_despatch_date desc) as abc\n",
    "\n",
    "from WhseFin_SharedArea.International_KPIs_Results_2Weeks as KPI\n",
    "left join imports.fin_dates_with_keys as d on d.date = kpi.target_despatch_date\n",
    "\n",
    "\n",
    "where d.CurrentWeekCenteredKey = '-2'\n",
    "and filedateyear in ('2023')\n",
    "\n",
    "Order by parcel_barcode "
   ]
  },
  {
   "cell_type": "code",
   "execution_count": 0,
   "metadata": {
    "application/vnd.databricks.v1+cell": {
     "cellMetadata": {
      "byteLimit": 2048000,
      "implicitDf": true,
      "rowLimit": 10000
     },
     "inputWidgets": {},
     "nuid": "1c5a1643-d41d-45a2-a332-66626d29806d",
     "showTitle": false,
     "title": ""
    }
   },
   "outputs": [
    {
     "output_type": "display_data",
     "data": {
      "text/html": [
       "<style scoped>\n",
       "  .table-result-container {\n",
       "    max-height: 300px;\n",
       "    overflow: auto;\n",
       "  }\n",
       "  table, th, td {\n",
       "    border: 1px solid black;\n",
       "    border-collapse: collapse;\n",
       "  }\n",
       "  th, td {\n",
       "    padding: 5px;\n",
       "  }\n",
       "  th {\n",
       "    text-align: left;\n",
       "  }\n",
       "</style><div class='table-result-container'><table class='table-result'><thead style='background-color: white'><tr><th>num_affected_rows</th><th>num_inserted_rows</th></tr></thead><tbody></tbody></table></div>"
      ]
     },
     "metadata": {
      "application/vnd.databricks.v1+output": {
       "addedWidgets": {},
       "aggData": [],
       "aggError": "",
       "aggOverflow": false,
       "aggSchema": [],
       "aggSeriesLimitReached": false,
       "aggType": "",
       "arguments": {},
       "columnCustomDisplayInfos": {},
       "data": [],
       "datasetInfos": [],
       "dbfsResultPath": null,
       "isJsonSchema": true,
       "metadata": {},
       "overflow": false,
       "plotOptions": {
        "customPlotOptions": {},
        "displayType": "table",
        "pivotAggregation": null,
        "pivotColumns": null,
        "xColumns": null,
        "yColumns": null
       },
       "removedWidgets": [],
       "schema": [
        {
         "metadata": "{}",
         "name": "num_affected_rows",
         "type": "\"long\""
        },
        {
         "metadata": "{}",
         "name": "num_inserted_rows",
         "type": "\"long\""
        }
       ],
       "type": "table"
      }
     },
     "output_type": "display_data"
    }
   ],
   "source": [
    "%sql\n",
    "create or replace table International_KPI_Results\n",
    "\n",
    "Select * from Int_KPI_Detail \n",
    "where year(target_despatch_Date) in ('2022','2023') \n",
    "and generation_date >= '2022-11-01' \n",
    "and abc = '1'"
   ]
  },
  {
   "cell_type": "code",
   "execution_count": 0,
   "metadata": {
    "application/vnd.databricks.v1+cell": {
     "cellMetadata": {
      "byteLimit": 2048000,
      "implicitDf": true,
      "rowLimit": 10000
     },
     "inputWidgets": {},
     "nuid": "debd5ff2-92aa-4b7f-b716-a823f07d4318",
     "showTitle": false,
     "title": ""
    }
   },
   "outputs": [
    {
     "output_type": "display_data",
     "data": {
      "text/html": [
       "<style scoped>\n",
       "  .table-result-container {\n",
       "    max-height: 300px;\n",
       "    overflow: auto;\n",
       "  }\n",
       "  table, th, td {\n",
       "    border: 1px solid black;\n",
       "    border-collapse: collapse;\n",
       "  }\n",
       "  th, td {\n",
       "    padding: 5px;\n",
       "  }\n",
       "  th {\n",
       "    text-align: left;\n",
       "  }\n",
       "</style><div class='table-result-container'><table class='table-result'><thead style='background-color: white'><tr><th>num_affected_rows</th><th>num_inserted_rows</th></tr></thead><tbody></tbody></table></div>"
      ]
     },
     "metadata": {
      "application/vnd.databricks.v1+output": {
       "addedWidgets": {},
       "aggData": [],
       "aggError": "",
       "aggOverflow": false,
       "aggSchema": [],
       "aggSeriesLimitReached": false,
       "aggType": "",
       "arguments": {},
       "columnCustomDisplayInfos": {},
       "data": [],
       "datasetInfos": [],
       "dbfsResultPath": null,
       "isJsonSchema": true,
       "metadata": {},
       "overflow": false,
       "plotOptions": {
        "customPlotOptions": {},
        "displayType": "table",
        "pivotAggregation": null,
        "pivotColumns": null,
        "xColumns": null,
        "yColumns": null
       },
       "removedWidgets": [],
       "schema": [
        {
         "metadata": "{}",
         "name": "num_affected_rows",
         "type": "\"long\""
        },
        {
         "metadata": "{}",
         "name": "num_inserted_rows",
         "type": "\"long\""
        }
       ],
       "type": "table"
      }
     },
     "output_type": "display_data"
    }
   ],
   "source": [
    "%sql\n",
    "create\n",
    "or replace table D2D1\n",
    "select\n",
    "  R.*,\n",
    "  case\n",
    "    when Destination = 'RU' then case\n",
    "      when substring(r.parcel_barcode, 1, 5) = '64502' then 'DRD RU'\n",
    "      when substring(r.parcel_barcode, 1, 5) = '64501' then 'Pony Express'\n",
    "      else null\n",
    "    end\n",
    "    when r.Depot = '62' then 'DPD Eire'\n",
    "    when r.Depot = '51' then 'DHL International'\n",
    "    when r.Depot = '44' then 'Direct Link'\n",
    "    when r.Depot = '61' then 'Meest'\n",
    "    when r.Depot = '63' then 'I Parcel'\n",
    "    when r.Depot = '74' then 'DHL EU Next Day'\n",
    "    when r.Depot = '75' then 'DHL EU'\n",
    "    when r.Depot = '76' then 'Worldnet'\n",
    "    when r.Depot = '77' then 'SkyNet'\n",
    "    when r.Depot = '65' then 'DHL Paket'\n",
    "    when r.Depot = '52' then '3Suisse'\n",
    "    when r.Depot = '71' then 'EziBuy'\n",
    "    when r.Depot = '70' then 'DPD International'\n",
    "    when r.Depot = '33' then 'Hermes'\n",
    "    when r.Depot = '64' then 'SPSR'\n",
    "  end as Carrier,\n",
    "  case\n",
    "    When Whse = 'Elmsall' then 'UK'\n",
    "    When Whse = 'Stadium' then 'UK'\n",
    "    When Whse = 'DVP' then 'UK'\n",
    "    When Whse = 'Childsplay' then 'UK'\n",
    "    When Whse = 'Redhouse' then 'UK'\n",
    "    When Whse = 'VNA' then 'UK'\n",
    "    When Whse = 'Germany' then 'Hub'\n",
    "    When Whse = 'Belfast' then 'Hub'\n",
    "    When Whse = 'Russia' then 'Hub'\n",
    "    When Whse = 'Reiss' then 'UK'\n",
    "  end as Warehouse_Type,\n",
    "  Case\n",
    "when substring(pr.client_id,1,2) in ('RS') and Warehouse in ('S') then 'Reiss - PSS'\n",
    "when substring(pr.client_id,1,2) in ('VS') and Warehouse in ('S') then 'VS - PSS'\n",
    "when substring(pr.client_id,1,2) in ('RS') then 'Reiss'\n",
    "when substring(pr.client_id,1,2) in ('VS') then 'VS'\n",
    "when substring(pr.client_id,1,2) in ('GA') then 'GAP'\n",
    "when substring(pr.client_id,1,2) in ('CD','CP') then 'Childsplay'\n",
    "when substring(pr.client_id,1,2) in ('AN') then 'Aubin'\n",
    "when substring(pr.client_id,1,2) in ('LA') then 'Laura Ashley'\n",
    "else 'Next' end as client\n",
    "\n",
    "\n",
    "\n",
    "\n",
    "from\n",
    "  International_KPI_Results as R\n",
    "  \n",
    "  left join warehouse.parcel_records as pr on pr.parcel_barcode = r.parcel_barcode and r.account_no = pr.account_no and pr.order_date = r.order_date"
   ]
  },
  {
   "cell_type": "code",
   "execution_count": 0,
   "metadata": {
    "application/vnd.databricks.v1+cell": {
     "cellMetadata": {
      "byteLimit": 2048000,
      "implicitDf": true,
      "rowLimit": 10000
     },
     "inputWidgets": {},
     "nuid": "a61525dd-5c22-4e18-b060-c4acd1f2ceb0",
     "showTitle": false,
     "title": ""
    }
   },
   "outputs": [
    {
     "output_type": "display_data",
     "data": {
      "text/html": [
       "<style scoped>\n",
       "  .table-result-container {\n",
       "    max-height: 300px;\n",
       "    overflow: auto;\n",
       "  }\n",
       "  table, th, td {\n",
       "    border: 1px solid black;\n",
       "    border-collapse: collapse;\n",
       "  }\n",
       "  th, td {\n",
       "    padding: 5px;\n",
       "  }\n",
       "  th {\n",
       "    text-align: left;\n",
       "  }\n",
       "</style><div class='table-result-container'><table class='table-result'><thead style='background-color: white'><tr><th>num_affected_rows</th><th>num_inserted_rows</th></tr></thead><tbody></tbody></table></div>"
      ]
     },
     "metadata": {
      "application/vnd.databricks.v1+output": {
       "addedWidgets": {},
       "aggData": [],
       "aggError": "",
       "aggOverflow": false,
       "aggSchema": [],
       "aggSeriesLimitReached": false,
       "aggType": "",
       "arguments": {},
       "columnCustomDisplayInfos": {},
       "data": [],
       "datasetInfos": [],
       "dbfsResultPath": null,
       "isJsonSchema": true,
       "metadata": {},
       "overflow": false,
       "plotOptions": {
        "customPlotOptions": {},
        "displayType": "table",
        "pivotAggregation": null,
        "pivotColumns": null,
        "xColumns": null,
        "yColumns": null
       },
       "removedWidgets": [],
       "schema": [
        {
         "metadata": "{}",
         "name": "num_affected_rows",
         "type": "\"long\""
        },
        {
         "metadata": "{}",
         "name": "num_inserted_rows",
         "type": "\"long\""
        }
       ],
       "type": "table"
      }
     },
     "output_type": "display_data"
    }
   ],
   "source": [
    "%sql\n",
    "create\n",
    "or replace table D2D2\n",
    "select\n",
    "  D.*,\n",
    "  --case\n",
    "    --when (\n",
    "     -- Warehouse_Type = 'UK'\n",
    "     -- and Destination = 'DE'\n",
    "   -- ) then array_join(array('UK', string(Depot), Destination), '')\n",
    "   -- when (\n",
    "   --   Warehouse_Type = 'UK'\n",
    "   --   and Order_Type = 'Partner'\n",
    "   -- ) then array_join(array('UK', string(Depot), Destination), '')\n",
    "   -- else array_join(array(string(Depot), Destination), '')\n",
    " -- end as Lookup,\n",
    "  case\n",
    "    when No_Stock_Date != '-' then 'No Stock'\n",
    "    when (\n",
    "      case\n",
    "        When Warehouse_Despatch_Result = 'On Time in Full' then 'Success'\n",
    "        When Warehouse_Despatch_Result = 'Parcel Despatched Late' then 'Fail'\n",
    "        When Warehouse_Despatch_Result = 'Full Parcel No Stock' then 'No Stock'\n",
    "        When Warehouse_Despatch_Result = 'Parcel Incomplete No Stocked Item - Despatched Late' then 'Fail'\n",
    "        When Warehouse_Despatch_Result = 'Parcel Incomplete No Stocked Item - Despatched On Time' then 'Success'\n",
    "      end = 'Fail'\n",
    "      and Target_Despatch_Date = Despatch_Date\n",
    "    ) then 'Success'\n",
    "    else case\n",
    "      When Warehouse_Despatch_Result = 'On Time in Full' then 'Success'\n",
    "      When Warehouse_Despatch_Result = 'Parcel Despatched Late' then 'Fail'\n",
    "      When Warehouse_Despatch_Result = 'Full Parcel No Stock' then 'No Stock'\n",
    "      When Warehouse_Despatch_Result = 'Parcel Incomplete No Stocked Item - Despatched Late' then 'Fail'\n",
    "      When Warehouse_Despatch_Result = 'Parcel Incomplete No Stocked Item - Despatched On Time' then 'Success'\n",
    "    end\n",
    "  end as warehouse_Fails,\n",
    "  case\n",
    "  when Destination = 'Otto' and Depot = '33' then '33Otto'\n",
    "when Destination = 'Zalando DE' and Depot = '65' then '65Zalando DE'\n",
    "when Destination = 'Zalando NL' and Depot = '65' then '65Zalando NL'\n",
    "when Destination = 'Zalando FR' and Depot = '76' then '76Zalando FR'\n",
    "when Destination = 'Zalando NL' and Depot = '76' then '76Zalando NL'\n",
    "when Destination = 'Amazon DE' and Depot = '65' then '65Amazon DE'\n",
    "when Destination = 'Amazon FR' and Depot = '76' then '76Amazon FR'\n",
    "when Destination = 'EziBuy AU' and Depot = '71' then '71EziBuy AU'\n",
    "when Destination = 'EziBuy NZ' and Depot = '71' then '71EziBuy NZ'\n",
    "when Destination = 'Spartoo' and Depot = '76' then '76Spartoo'\n",
    "when Destination = 'Amazon IT' and Depot = '76' then '76Amazon IT'\n",
    "when Destination = 'Amazon US' and Depot = '51' then '51Amazon US'\n",
    "when Destination = 'Amazon ES' and Depot = '76' then '76Amazon ES'\n",
    "when Destination = 'Otto' and Depot = '33' then '33Otto'\n",
    "when Destination = 'Zalando DE' and Depot = '65' then '65Zalando DE'\n",
    "when Destination = 'Zalando NL' and Depot = '65' then '65Zalando NL'\n",
    "when Destination = 'Zalando FR' and Depot = '76' then '76Zalando FR'\n",
    "when Destination = 'Zalando NL' and Depot = '76' then '76Zalando NL'\n",
    "when Destination = 'Amazon DE' and Depot = '65' then '65Amazon DE'\n",
    "when Destination = 'Amazon FR' and Depot = '76' then '76Amazon FR'\n",
    "when Destination = 'EziBuy AU' and Depot = '71' then '71EziBuy AU'\n",
    "when Destination = 'EziBuy NZ' and Depot = '71' then '71EziBuy NZ'\n",
    "when Destination = 'Spartoo' and Depot = '76' then '76Spartoo'\n",
    "when Destination = 'Amazon IT' and Depot = '76' then '76Amazon IT'\n",
    "when Destination = 'Amazon US' and Depot = '51' then '51Amazon US'\n",
    "when Destination = 'Amazon ES' and Depot = '76' then '76Amazon ES'\n",
    "when Destination = 'La redoute' and Depot = '76' then '76La redoute'\n",
    "else array_join(array(Client,warehouse_type,depot,destination),'') end as lookup\n",
    "from\n",
    "  D2D1 as D"
   ]
  },
  {
   "cell_type": "code",
   "execution_count": 0,
   "metadata": {
    "application/vnd.databricks.v1+cell": {
     "cellMetadata": {
      "byteLimit": 2048000,
      "implicitDf": true,
      "rowLimit": 10000
     },
     "inputWidgets": {},
     "nuid": "a9b4a3ac-c017-45bd-bd20-6556212d1f98",
     "showTitle": false,
     "title": ""
    }
   },
   "outputs": [
    {
     "output_type": "display_data",
     "data": {
      "text/html": [
       "<style scoped>\n",
       "  .table-result-container {\n",
       "    max-height: 300px;\n",
       "    overflow: auto;\n",
       "  }\n",
       "  table, th, td {\n",
       "    border: 1px solid black;\n",
       "    border-collapse: collapse;\n",
       "  }\n",
       "  th, td {\n",
       "    padding: 5px;\n",
       "  }\n",
       "  th {\n",
       "    text-align: left;\n",
       "  }\n",
       "</style><div class='table-result-container'><table class='table-result'><thead style='background-color: white'><tr><th>num_affected_rows</th><th>num_inserted_rows</th></tr></thead><tbody></tbody></table></div>"
      ]
     },
     "metadata": {
      "application/vnd.databricks.v1+output": {
       "addedWidgets": {},
       "aggData": [],
       "aggError": "",
       "aggOverflow": false,
       "aggSchema": [],
       "aggSeriesLimitReached": false,
       "aggType": "",
       "arguments": {},
       "columnCustomDisplayInfos": {},
       "data": [],
       "datasetInfos": [],
       "dbfsResultPath": null,
       "isJsonSchema": true,
       "metadata": {},
       "overflow": false,
       "plotOptions": {
        "customPlotOptions": {},
        "displayType": "table",
        "pivotAggregation": null,
        "pivotColumns": null,
        "xColumns": null,
        "yColumns": null
       },
       "removedWidgets": [],
       "schema": [
        {
         "metadata": "{}",
         "name": "num_affected_rows",
         "type": "\"long\""
        },
        {
         "metadata": "{}",
         "name": "num_inserted_rows",
         "type": "\"long\""
        }
       ],
       "type": "table"
      }
     },
     "output_type": "display_data"
    }
   ],
   "source": [
    "%sql\n",
    "create\n",
    "or replace table d2d3\n",
    "select\n",
    "  d.*,\n",
    "  case\n",
    "    when No_Stock_Date != '-' then 'No Stock'\n",
    "    when warehouse_Fails = 'Success' then '0'\n",
    "    when warehouse_Fails = 'Fail'\n",
    "    and Despatch_Date is null then 'Not Yet Despatched'\n",
    "    when warehouse_Fails = 'Fail'\n",
    "    and Despatch_Date is not null then datediff(Despatch_Date, Target_Despatch_Date)\n",
    "  end as Days_Late_Next,\n",
    "  s.`Total SLA` as SLA,\n",
    "  case\n",
    "    when p.`pos country` = 'Yes' then 'Yes'\n",
    "    when p.`pos country` = 'No' then 'No'\n",
    "    else 'No'\n",
    "  end as POS_country,\n",
    "  case\n",
    "    when s.pattern = '0' then '1111111'\n",
    "    when length(s.pattern) = 1 then '1111110'\n",
    "    when length(s.pattern) = 2 then array_join(\n",
    "      array(\n",
    "        '11111',case\n",
    "          when substring(s.pattern, 1, 1) = '0' then '1'\n",
    "          when substring(s.pattern, 1, 1) = '1' then '0'\n",
    "        end,\n",
    "        case\n",
    "          when substring(s.pattern, 2, 1) = '0' then '1'\n",
    "          when substring(s.pattern, 2, 1) = '1' then '0'\n",
    "        end\n",
    "      ),\n",
    "      ''\n",
    "    )\n",
    "    when length(s.pattern) = 3 then array_join(\n",
    "      array(\n",
    "        '1111',case\n",
    "          when substring(s.pattern, 1, 1) = '0' then '1'\n",
    "          when substring(s.pattern, 1, 1) = '1' then '0'\n",
    "        end,\n",
    "        case\n",
    "          when substring(s.pattern, 2, 1) = '0' then '1'\n",
    "          when substring(s.pattern, 2, 1) = '1' then '0'\n",
    "        end,case\n",
    "          when substring(s.pattern, 3, 1) = '0' then '1'\n",
    "          when substring(s.pattern, 3, 1) = '1' then '0'\n",
    "        end\n",
    "      ),\n",
    "      ''\n",
    "    )\n",
    "    when length(s.pattern) = 4 then array_join(\n",
    "      array(\n",
    "        '111',case\n",
    "          when substring(s.pattern, 1, 1) = '0' then '1'\n",
    "          when substring(s.pattern, 1, 1) = '1' then '0'\n",
    "        end,\n",
    "        case\n",
    "          when substring(s.pattern, 2, 1) = '0' then '1'\n",
    "          when substring(s.pattern, 2, 1) = '1' then '0'\n",
    "        end,case\n",
    "          when substring(s.pattern, 3, 1) = '0' then '1'\n",
    "          when substring(s.pattern, 3, 1) = '1' then '0'\n",
    "        end,case\n",
    "          when substring(s.pattern, 4, 1) = '0' then '1'\n",
    "          when substring(s.pattern, 4, 1) = '1' then '0'\n",
    "        end\n",
    "      ),\n",
    "      ''\n",
    "    )\n",
    "    when length(s.pattern) = 5 then array_join(\n",
    "      array(\n",
    "        '11',case\n",
    "          when substring(s.pattern, 1, 1) = '0' then '1'\n",
    "          when substring(s.pattern, 1, 1) = '1' then '0'\n",
    "        end,\n",
    "        case\n",
    "          when substring(s.pattern, 2, 1) = '0' then '1'\n",
    "          when substring(s.pattern, 2, 1) = '1' then '0'\n",
    "        end,case\n",
    "          when substring(s.pattern, 3, 1) = '0' then '1'\n",
    "          when substring(s.pattern, 3, 1) = '1' then '0'\n",
    "        end,case\n",
    "          when substring(s.pattern, 4, 1) = '0' then '1'\n",
    "          when substring(s.pattern, 4, 1) = '1' then '0'\n",
    "        end,case\n",
    "          when substring(s.pattern, 5, 1) = '0' then '1'\n",
    "          when substring(s.pattern, 5, 1) = '1' then '0'\n",
    "        end\n",
    "      ),\n",
    "      ''\n",
    "    )\n",
    "    when length(s.pattern) = 6 then array_join(\n",
    "      array(\n",
    "        '1',case\n",
    "          when substring(s.pattern, 1, 1) = '0' then '1'\n",
    "          when substring(s.pattern, 1, 1) = '1' then '0'\n",
    "        end,\n",
    "        case\n",
    "          when substring(s.pattern, 2, 1) = '0' then '1'\n",
    "          when substring(s.pattern, 2, 1) = '1' then '0'\n",
    "        end,case\n",
    "          when substring(s.pattern, 3, 1) = '0' then '1'\n",
    "          when substring(s.pattern, 3, 1) = '1' then '0'\n",
    "        end,case\n",
    "          when substring(s.pattern, 4, 1) = '0' then '1'\n",
    "          when substring(s.pattern, 4, 1) = '1' then '0'\n",
    "        end,case\n",
    "          when substring(s.pattern, 5, 1) = '0' then '1'\n",
    "          when substring(s.pattern, 5, 1) = '1' then '0'\n",
    "        end,case\n",
    "          when substring(s.pattern, 6, 1) = '0' then '1'\n",
    "          when substring(s.pattern, 6, 1) = '1' then '0'\n",
    "        end\n",
    "      ),\n",
    "      ''\n",
    "    )\n",
    "    when length(s.pattern) = 7 then array_join(\n",
    "      array(\n",
    "        case\n",
    "          when substring(s.pattern, 1, 1) = '0' then '1'\n",
    "          when substring(s.pattern, 1, 1) = '1' then '0'\n",
    "        end,\n",
    "        case\n",
    "          when substring(s.pattern, 2, 1) = '0' then '1'\n",
    "          when substring(s.pattern, 2, 1) = '1' then '0'\n",
    "        end,case\n",
    "          when substring(s.pattern, 3, 1) = '0' then '1'\n",
    "          when substring(s.pattern, 3, 1) = '1' then '0'\n",
    "        end,case\n",
    "          when substring(s.pattern, 4, 1) = '0' then '1'\n",
    "          when substring(s.pattern, 4, 1) = '1' then '0'\n",
    "        end,case\n",
    "          when substring(s.pattern, 5, 1) = '0' then '1'\n",
    "          when substring(s.pattern, 5, 1) = '1' then '0'\n",
    "        end,case\n",
    "          when substring(s.pattern, 6, 1) = '0' then '1'\n",
    "          when substring(s.pattern, 6, 1) = '1' then '0'\n",
    "        end,case\n",
    "          when substring(s.pattern, 6, 1) = '0' then '1'\n",
    "          when substring(s.pattern, 6, 1) = '1' then '0'\n",
    "        end\n",
    "      ),\n",
    "      ''\n",
    "    )\n",
    "  end as PythonPattern\n",
    "  \n",
    "from\n",
    "  d2d2 as d\n",
    "  left join SLAs as s on d.lookup = s.concat2\n",
    "  left join POS_Countries as p on p.code = d.Destination"
   ]
  },
  {
   "cell_type": "code",
   "execution_count": 0,
   "metadata": {
    "application/vnd.databricks.v1+cell": {
     "cellMetadata": {
      "byteLimit": 2048000,
      "implicitDf": true,
      "rowLimit": 10000
     },
     "inputWidgets": {},
     "nuid": "620e4cac-525c-4519-b383-39d792c3ce57",
     "showTitle": false,
     "title": ""
    }
   },
   "outputs": [
    {
     "output_type": "display_data",
     "data": {
      "text/html": [
       "<style scoped>\n",
       "  .table-result-container {\n",
       "    max-height: 300px;\n",
       "    overflow: auto;\n",
       "  }\n",
       "  table, th, td {\n",
       "    border: 1px solid black;\n",
       "    border-collapse: collapse;\n",
       "  }\n",
       "  th, td {\n",
       "    padding: 5px;\n",
       "  }\n",
       "  th {\n",
       "    text-align: left;\n",
       "  }\n",
       "</style><div class='table-result-container'><table class='table-result'><thead style='background-color: white'><tr><th>num_affected_rows</th><th>num_inserted_rows</th></tr></thead><tbody></tbody></table></div>"
      ]
     },
     "metadata": {
      "application/vnd.databricks.v1+output": {
       "addedWidgets": {},
       "aggData": [],
       "aggError": "",
       "aggOverflow": false,
       "aggSchema": [],
       "aggSeriesLimitReached": false,
       "aggType": "",
       "arguments": {},
       "columnCustomDisplayInfos": {},
       "data": [],
       "datasetInfos": [],
       "dbfsResultPath": null,
       "isJsonSchema": true,
       "metadata": {},
       "overflow": false,
       "plotOptions": {
        "customPlotOptions": {},
        "displayType": "table",
        "pivotAggregation": null,
        "pivotColumns": null,
        "xColumns": null,
        "yColumns": null
       },
       "removedWidgets": [],
       "schema": [
        {
         "metadata": "{}",
         "name": "num_affected_rows",
         "type": "\"long\""
        },
        {
         "metadata": "{}",
         "name": "num_inserted_rows",
         "type": "\"long\""
        }
       ],
       "type": "table"
      }
     },
     "output_type": "display_data"
    }
   ],
   "source": [
    "%sql\n",
    "create\n",
    "or replace table to_python\n",
    "select\n",
    "  *,\n",
    "  case\n",
    "    when (promise_date is not null and Generation_date is not null ) and datediff(promise_date, Generation_date) < '4' and Days_late_next in ('No Stock','Not Yet Despatched') then 1\n",
    "    when Days_late_next = 'No Stock' then 0\n",
    "    when Days_late_next = 'Not Yet Despatched' then 0\n",
    "    when Days_Late_Next = 'Fail' then 0\n",
    "    when Days_Late_Next is null then 0\n",
    "    else Days_Late_Next\n",
    "  end as Days_Late_Next_temp,\n",
    "   \n",
    "    \n",
    "  case when PythonPattern is null then '1111100'  else PythonPattern end as PythonPatternNew\n",
    "FROM\n",
    "  d2d3\n",
    "  \n",
    "  where  sla is not null "
   ]
  },
  {
   "cell_type": "code",
   "execution_count": 0,
   "metadata": {
    "application/vnd.databricks.v1+cell": {
     "cellMetadata": {
      "byteLimit": 2048000,
      "implicitDf": true,
      "rowLimit": 10000
     },
     "inputWidgets": {},
     "nuid": "6e6f8364-e11c-43cf-98c5-39eeae34ff67",
     "showTitle": false,
     "title": ""
    }
   },
   "outputs": [
    {
     "output_type": "display_data",
     "data": {
      "text/html": [
       "<style scoped>\n",
       "  .table-result-container {\n",
       "    max-height: 300px;\n",
       "    overflow: auto;\n",
       "  }\n",
       "  table, th, td {\n",
       "    border: 1px solid black;\n",
       "    border-collapse: collapse;\n",
       "  }\n",
       "  th, td {\n",
       "    padding: 5px;\n",
       "  }\n",
       "  th {\n",
       "    text-align: left;\n",
       "  }\n",
       "</style><div class='table-result-container'><table class='table-result'><thead style='background-color: white'><tr><th>num_affected_rows</th><th>num_inserted_rows</th></tr></thead><tbody></tbody></table></div>"
      ]
     },
     "metadata": {
      "application/vnd.databricks.v1+output": {
       "addedWidgets": {},
       "aggData": [],
       "aggError": "",
       "aggOverflow": false,
       "aggSchema": [],
       "aggSeriesLimitReached": false,
       "aggType": "",
       "arguments": {},
       "columnCustomDisplayInfos": {},
       "data": [],
       "datasetInfos": [],
       "dbfsResultPath": null,
       "isJsonSchema": true,
       "metadata": {},
       "overflow": false,
       "plotOptions": {
        "customPlotOptions": {},
        "displayType": "table",
        "pivotAggregation": null,
        "pivotColumns": null,
        "xColumns": null,
        "yColumns": null
       },
       "removedWidgets": [],
       "schema": [
        {
         "metadata": "{}",
         "name": "num_affected_rows",
         "type": "\"long\""
        },
        {
         "metadata": "{}",
         "name": "num_inserted_rows",
         "type": "\"long\""
        }
       ],
       "type": "table"
      }
     },
     "output_type": "display_data"
    }
   ],
   "source": [
    "%sql\n",
    "create or replace table to_python2\n",
    "\n",
    "select \n",
    "*,\n",
    "case\n",
    "when datediff(promise_date, Generation_date) < '4' then date_add(Target_despatch_date,int(array_min(array(Days_Late_Next_temp,1))))\n",
    "when promise_date is not null then promise_date\n",
    "when datediff(promise_date, Generation_date) >= '4' then date_add(Target_despatch_date,int(array_max(array(Days_Late_Next_temp,1))))\n",
    "else date_add(Target_despatch_date,int(array_max(array(Days_Late_Next_temp,1))))\n",
    "end as Target_despatch_date_temp\n",
    "\n",
    "from to_python"
   ]
  },
  {
   "cell_type": "code",
   "execution_count": 0,
   "metadata": {
    "application/vnd.databricks.v1+cell": {
     "cellMetadata": {
      "byteLimit": 2048000,
      "implicitDf": true,
      "rowLimit": 10000
     },
     "inputWidgets": {},
     "nuid": "656f8d90-744b-42bd-be77-328b7962923d",
     "showTitle": false,
     "title": ""
    }
   },
   "outputs": [
    {
     "output_type": "display_data",
     "data": {
      "text/html": [
       "<style scoped>\n",
       "  .table-result-container {\n",
       "    max-height: 300px;\n",
       "    overflow: auto;\n",
       "  }\n",
       "  table, th, td {\n",
       "    border: 1px solid black;\n",
       "    border-collapse: collapse;\n",
       "  }\n",
       "  th, td {\n",
       "    padding: 5px;\n",
       "  }\n",
       "  th {\n",
       "    text-align: left;\n",
       "  }\n",
       "</style><div class='table-result-container'><table class='table-result'><thead style='background-color: white'><tr><th>num_affected_rows</th><th>num_inserted_rows</th></tr></thead><tbody></tbody></table></div>"
      ]
     },
     "metadata": {
      "application/vnd.databricks.v1+output": {
       "addedWidgets": {},
       "aggData": [],
       "aggError": "",
       "aggOverflow": false,
       "aggSchema": [],
       "aggSeriesLimitReached": false,
       "aggType": "",
       "arguments": {},
       "columnCustomDisplayInfos": {},
       "data": [],
       "datasetInfos": [],
       "dbfsResultPath": null,
       "isJsonSchema": true,
       "metadata": {},
       "overflow": false,
       "plotOptions": {
        "customPlotOptions": {},
        "displayType": "table",
        "pivotAggregation": null,
        "pivotColumns": null,
        "xColumns": null,
        "yColumns": null
       },
       "removedWidgets": [],
       "schema": [
        {
         "metadata": "{}",
         "name": "num_affected_rows",
         "type": "\"long\""
        },
        {
         "metadata": "{}",
         "name": "num_inserted_rows",
         "type": "\"long\""
        }
       ],
       "type": "table"
      }
     },
     "output_type": "display_data"
    }
   ],
   "source": [
    "%sql\n",
    "create or replace table null_SLA\n",
    "  \n",
    "select\n",
    "*,\n",
    "case\n",
    "    when Days_late_next = 'No Stock' then 0\n",
    "    when Days_late_next = 'Not Yet Despatched' then 0\n",
    "    when Days_Late_Next = 'Fail' then 0\n",
    "    when Days_Late_Next is null then 0\n",
    "    else Days_Late_Next\n",
    "  end as Days_Late_Next_temp,\n",
    "  case when PythonPattern is null then '1111100' else PythonPattern end as PythonPatternNew\n",
    "  \n",
    "\n",
    "from d2d3 where sla is null "
   ]
  },
  {
   "cell_type": "code",
   "execution_count": 0,
   "metadata": {
    "application/vnd.databricks.v1+cell": {
     "cellMetadata": {
      "byteLimit": 2048000,
      "implicitDf": true,
      "rowLimit": 10000
     },
     "inputWidgets": {},
     "nuid": "11ebd139-500b-4712-8747-2093aa0c1fd8",
     "showTitle": false,
     "title": ""
    }
   },
   "outputs": [
    {
     "output_type": "display_data",
     "data": {
      "text/html": [
       "<style scoped>\n",
       "  .table-result-container {\n",
       "    max-height: 300px;\n",
       "    overflow: auto;\n",
       "  }\n",
       "  table, th, td {\n",
       "    border: 1px solid black;\n",
       "    border-collapse: collapse;\n",
       "  }\n",
       "  th, td {\n",
       "    padding: 5px;\n",
       "  }\n",
       "  th {\n",
       "    text-align: left;\n",
       "  }\n",
       "</style><div class='table-result-container'><table class='table-result'><thead style='background-color: white'><tr><th>num_affected_rows</th><th>num_inserted_rows</th></tr></thead><tbody></tbody></table></div>"
      ]
     },
     "metadata": {
      "application/vnd.databricks.v1+output": {
       "addedWidgets": {},
       "aggData": [],
       "aggError": "",
       "aggOverflow": false,
       "aggSchema": [],
       "aggSeriesLimitReached": false,
       "aggType": "",
       "arguments": {},
       "columnCustomDisplayInfos": {},
       "data": [],
       "datasetInfos": [],
       "dbfsResultPath": null,
       "isJsonSchema": true,
       "metadata": {},
       "overflow": false,
       "plotOptions": {
        "customPlotOptions": {},
        "displayType": "table",
        "pivotAggregation": null,
        "pivotColumns": null,
        "xColumns": null,
        "yColumns": null
       },
       "removedWidgets": [],
       "schema": [
        {
         "metadata": "{}",
         "name": "num_affected_rows",
         "type": "\"long\""
        },
        {
         "metadata": "{}",
         "name": "num_inserted_rows",
         "type": "\"long\""
        }
       ],
       "type": "table"
      }
     },
     "output_type": "display_data"
    }
   ],
   "source": [
    "%sql\n",
    "create or replace table null_sla2\n",
    "\n",
    "\n",
    "\n",
    "select \n",
    "*,\n",
    "case\n",
    "when datediff(promise_date, Generation_date) < '4' then date_add(Target_despatch_date,int(array_min(array(Days_Late_Next_temp,1))))\n",
    "when promise_date is not null then promise_date\n",
    "when datediff(promise_date, Generation_date) >= '4' then date_add(Target_despatch_date,int(array_max(array(Days_Late_Next_temp,1))))\n",
    "else date_add(Target_despatch_date,int(array_max(array(Days_Late_Next_temp,1))))\n",
    "end as Target_despatch_date_temp,\n",
    "'#N/A' as Busday,\n",
    "'#N/A' as Delivery_Cut_Off_Temp\n",
    "\n",
    "from null_sla"
   ]
  },
  {
   "cell_type": "code",
   "execution_count": 0,
   "metadata": {
    "application/vnd.databricks.v1+cell": {
     "cellMetadata": {
      "byteLimit": 2048000,
      "rowLimit": 10000
     },
     "inputWidgets": {},
     "nuid": "097823a3-ed2c-42d3-9f46-f1b1cf48e23f",
     "showTitle": false,
     "title": ""
    }
   },
   "outputs": [
    {
     "output_type": "stream",
     "name": "stdout",
     "output_type": "stream",
     "text": [
      "Python interpreter will be restarted.\nRequirement already satisfied: koalas in /local_disk0/.ephemeral_nfs/envs/pythonEnv-9704bee1-4ac6-4ee7-be85-fe254acadf9e/lib/python3.9/site-packages (1.8.2)\nRequirement already satisfied: pandas>=0.23.2 in /databricks/python3/lib/python3.9/site-packages (from koalas) (1.4.2)\nRequirement already satisfied: numpy>=1.14 in /databricks/python3/lib/python3.9/site-packages (from koalas) (1.21.5)\nRequirement already satisfied: pyarrow>=0.10 in /databricks/python3/lib/python3.9/site-packages (from koalas) (7.0.0)\nRequirement already satisfied: python-dateutil>=2.8.1 in /databricks/python3/lib/python3.9/site-packages (from pandas>=0.23.2->koalas) (2.8.2)\nRequirement already satisfied: pytz>=2020.1 in /databricks/python3/lib/python3.9/site-packages (from pandas>=0.23.2->koalas) (2021.3)\nRequirement already satisfied: six>=1.5 in /databricks/python3/lib/python3.9/site-packages (from python-dateutil>=2.8.1->pandas>=0.23.2->koalas) (1.16.0)\nPython interpreter will be restarted.\n"
     ]
    }
   ],
   "source": [
    "%pip install koalas"
   ]
  },
  {
   "cell_type": "code",
   "execution_count": 0,
   "metadata": {
    "application/vnd.databricks.v1+cell": {
     "cellMetadata": {
      "byteLimit": 2048000,
      "rowLimit": 10000
     },
     "inputWidgets": {},
     "nuid": "a20ded3b-ffe9-412f-9b62-46aa3efd7f30",
     "showTitle": false,
     "title": ""
    }
   },
   "outputs": [
    {
     "output_type": "stream",
     "name": "stderr",
     "output_type": "stream",
     "text": [
      "WARNING:root:Found pyspark version \"3.3.2.dev0\" installed. The pyspark version 3.2 and above has a built-in \"pandas APIs on Spark\" module ported from Koalas. Try `import pyspark.pandas as ps` instead. \n"
     ]
    }
   ],
   "source": [
    "%python\n",
    "import numpy as np\n",
    "import pyspark.pandas as ps\n",
    "from datetime import datetime, timedelta\n",
    "\n",
    "import databricks.koalas as ks\n",
    "from datetime import datetime\n",
    "\n",
    "Int_parcels = spark.sql(\"SELECT *  FROM to_python2 where sla is not null and PythonPattern is not null\")\n",
    "Int_parcels = Int_parcels.to_koalas()\n",
    "\n",
    "\n"
   ]
  },
  {
   "cell_type": "code",
   "execution_count": 0,
   "metadata": {
    "application/vnd.databricks.v1+cell": {
     "cellMetadata": {
      "byteLimit": 2048000,
      "rowLimit": 10000
     },
     "inputWidgets": {},
     "nuid": "af35eb3a-cdb5-4818-b9b2-d0963842a5cb",
     "showTitle": false,
     "title": ""
    }
   },
   "outputs": [
    {
     "output_type": "stream",
     "name": "stderr",
     "output_type": "stream",
     "text": [
      "/databricks/spark/python/pyspark/sql/pandas/functions.py:396: UserWarning: In Python 3.6+ and Spark 3.0+, it is preferred to specify type hints for pandas UDF instead of specifying pandas UDF type which will be deprecated in the future releases. See SPARK-28264 for more details.\n  warnings.warn(\n"
     ]
    }
   ],
   "source": [
    "%python\n",
    "\n",
    "Int_parcels['Promise_Date'] = ks.to_datetime(Int_parcels['Promise_Date'])\n",
    "Int_parcels['Generation_Date'] = ks.to_datetime(Int_parcels['Generation_Date'])\n",
    "Int_parcels['Target_Despatch_Date'] = ks.to_datetime(Int_parcels['Target_Despatch_Date'])\n",
    "Int_parcels['Target_despatch_date_temp'] = ks.to_datetime(Int_parcels['Target_despatch_date_temp'])\n",
    "Int_parcels['Days_Late_Next_temp'] = ks.to_numeric(Int_parcels['Days_Late_Next_temp'])\n",
    "Int_parcels['SLA'] = ks.to_numeric(Int_parcels['SLA'])\n",
    "\n"
   ]
  },
  {
   "cell_type": "code",
   "execution_count": 0,
   "metadata": {
    "application/vnd.databricks.v1+cell": {
     "cellMetadata": {
      "byteLimit": 2048000,
      "rowLimit": 10000
     },
     "inputWidgets": {},
     "nuid": "f853823d-d083-4d57-9ec2-7e30d48e6006",
     "showTitle": false,
     "title": ""
    }
   },
   "outputs": [],
   "source": [
    "%python\n",
    "\n",
    "ks.set_option('compute.ops_on_diff_frames', True)\n",
    "\n",
    "Int_parcels['Busday'] = Int_parcels.apply(lambda row:   np.is_busday(row.Target_despatch_date_temp.date(), weekmask = row.PythonPatternNew), axis =  1)"
   ]
  },
  {
   "cell_type": "code",
   "execution_count": 0,
   "metadata": {
    "application/vnd.databricks.v1+cell": {
     "cellMetadata": {
      "byteLimit": 2048000,
      "rowLimit": 10000
     },
     "inputWidgets": {},
     "nuid": "d530689d-7739-4485-92f4-d6379455cd27",
     "showTitle": false,
     "title": ""
    }
   },
   "outputs": [],
   "source": [
    "%python\n",
    "\n",
    "Int_parcels['Delivery_Cut_Off_Temp'] = Int_parcels.apply(lambda row:   np.busday_offset(row.Target_despatch_date_temp.date(), row.SLA, weekmask = str(row.PythonPatternNew),roll=\"forward\") if row.Busday == True else np.busday_offset(row.Target_despatch_date_temp.date(), row.SLA - 1, weekmask = str(row.PythonPatternNew),roll=\"forward\"), axis =  1)\n",
    "\n",
    "\n",
    "Int_parcels['Delivery_Cut_Off_Temp']=Int_parcels['Delivery_Cut_Off_Temp'].astype(str)\n",
    "Int_parcels['Busday']=Int_parcels['Busday'].astype(str)\n",
    "\n"
   ]
  },
  {
   "cell_type": "code",
   "execution_count": 0,
   "metadata": {
    "application/vnd.databricks.v1+cell": {
     "cellMetadata": {
      "byteLimit": 2048000,
      "implicitDf": true,
      "rowLimit": 10000
     },
     "inputWidgets": {},
     "nuid": "79c6cbef-f29e-422a-a0d2-615c31682f99",
     "showTitle": false,
     "title": ""
    }
   },
   "outputs": [
    {
     "output_type": "display_data",
     "data": {
      "text/html": [
       "<style scoped>\n",
       "  .table-result-container {\n",
       "    max-height: 300px;\n",
       "    overflow: auto;\n",
       "  }\n",
       "  table, th, td {\n",
       "    border: 1px solid black;\n",
       "    border-collapse: collapse;\n",
       "  }\n",
       "  th, td {\n",
       "    padding: 5px;\n",
       "  }\n",
       "  th {\n",
       "    text-align: left;\n",
       "  }\n",
       "</style><div class='table-result-container'><table class='table-result'><thead style='background-color: white'><tr></tr></thead><tbody></tbody></table></div>"
      ]
     },
     "metadata": {
      "application/vnd.databricks.v1+output": {
       "addedWidgets": {},
       "aggData": [],
       "aggError": "",
       "aggOverflow": false,
       "aggSchema": [],
       "aggSeriesLimitReached": false,
       "aggType": "",
       "arguments": {},
       "columnCustomDisplayInfos": {},
       "data": [],
       "datasetInfos": [],
       "dbfsResultPath": null,
       "isJsonSchema": true,
       "metadata": {},
       "overflow": false,
       "plotOptions": {
        "customPlotOptions": {},
        "displayType": "table",
        "pivotAggregation": null,
        "pivotColumns": null,
        "xColumns": null,
        "yColumns": null
       },
       "removedWidgets": [],
       "schema": [],
       "type": "table"
      }
     },
     "output_type": "display_data"
    }
   ],
   "source": [
    "%sql\n",
    "drop table post_python"
   ]
  },
  {
   "cell_type": "code",
   "execution_count": 0,
   "metadata": {
    "application/vnd.databricks.v1+cell": {
     "cellMetadata": {
      "byteLimit": 2048000,
      "rowLimit": 10000
     },
     "inputWidgets": {},
     "nuid": "fdd9df27-0e1d-4d38-b00e-aa5b151d84ac",
     "showTitle": false,
     "title": ""
    }
   },
   "outputs": [],
   "source": [
    "%python \n",
    "\n",
    "Int_parcels.to_table(name = 'post_python',mode = 'overwrite')\n"
   ]
  },
  {
   "cell_type": "code",
   "execution_count": 0,
   "metadata": {
    "application/vnd.databricks.v1+cell": {
     "cellMetadata": {
      "byteLimit": 2048000,
      "implicitDf": true,
      "rowLimit": 10000
     },
     "inputWidgets": {},
     "nuid": "72dbe8e5-bc9a-49b5-804d-873dad3e13c6",
     "showTitle": false,
     "title": ""
    }
   },
   "outputs": [
    {
     "output_type": "display_data",
     "data": {
      "text/html": [
       "<style scoped>\n",
       "  .table-result-container {\n",
       "    max-height: 300px;\n",
       "    overflow: auto;\n",
       "  }\n",
       "  table, th, td {\n",
       "    border: 1px solid black;\n",
       "    border-collapse: collapse;\n",
       "  }\n",
       "  th, td {\n",
       "    padding: 5px;\n",
       "  }\n",
       "  th {\n",
       "    text-align: left;\n",
       "  }\n",
       "</style><div class='table-result-container'><table class='table-result'><thead style='background-color: white'><tr><th>num_affected_rows</th><th>num_inserted_rows</th></tr></thead><tbody></tbody></table></div>"
      ]
     },
     "metadata": {
      "application/vnd.databricks.v1+output": {
       "addedWidgets": {},
       "aggData": [],
       "aggError": "",
       "aggOverflow": false,
       "aggSchema": [],
       "aggSeriesLimitReached": false,
       "aggType": "",
       "arguments": {},
       "columnCustomDisplayInfos": {},
       "data": [],
       "datasetInfos": [],
       "dbfsResultPath": null,
       "isJsonSchema": true,
       "metadata": {},
       "overflow": false,
       "plotOptions": {
        "customPlotOptions": {},
        "displayType": "table",
        "pivotAggregation": null,
        "pivotColumns": null,
        "xColumns": null,
        "yColumns": null
       },
       "removedWidgets": [],
       "schema": [
        {
         "metadata": "{}",
         "name": "num_affected_rows",
         "type": "\"long\""
        },
        {
         "metadata": "{}",
         "name": "num_inserted_rows",
         "type": "\"long\""
        }
       ],
       "type": "table"
      }
     },
     "output_type": "display_data"
    }
   ],
   "source": [
    "%sql\n",
    "create or replace table all_data \n",
    "\n",
    "select * from post_python\n",
    "\n",
    "union all\n",
    "\n",
    "select * from null_sla2"
   ]
  },
  {
   "cell_type": "code",
   "execution_count": 0,
   "metadata": {
    "application/vnd.databricks.v1+cell": {
     "cellMetadata": {
      "byteLimit": 2048000,
      "implicitDf": true,
      "rowLimit": 10000
     },
     "inputWidgets": {},
     "nuid": "2c642872-5840-4d73-ba31-f1d42eb7975f",
     "showTitle": false,
     "title": ""
    }
   },
   "outputs": [
    {
     "output_type": "display_data",
     "data": {
      "text/html": [
       "<style scoped>\n",
       "  .table-result-container {\n",
       "    max-height: 300px;\n",
       "    overflow: auto;\n",
       "  }\n",
       "  table, th, td {\n",
       "    border: 1px solid black;\n",
       "    border-collapse: collapse;\n",
       "  }\n",
       "  th, td {\n",
       "    padding: 5px;\n",
       "  }\n",
       "  th {\n",
       "    text-align: left;\n",
       "  }\n",
       "</style><div class='table-result-container'><table class='table-result'><thead style='background-color: white'><tr><th>num_affected_rows</th><th>num_inserted_rows</th></tr></thead><tbody></tbody></table></div>"
      ]
     },
     "metadata": {
      "application/vnd.databricks.v1+output": {
       "addedWidgets": {},
       "aggData": [],
       "aggError": "",
       "aggOverflow": false,
       "aggSchema": [],
       "aggSeriesLimitReached": false,
       "aggType": "",
       "arguments": {},
       "columnCustomDisplayInfos": {},
       "data": [],
       "datasetInfos": [],
       "dbfsResultPath": null,
       "isJsonSchema": true,
       "metadata": {},
       "overflow": false,
       "plotOptions": {
        "customPlotOptions": {},
        "displayType": "table",
        "pivotAggregation": null,
        "pivotColumns": null,
        "xColumns": null,
        "yColumns": null
       },
       "removedWidgets": [],
       "schema": [
        {
         "metadata": "{}",
         "name": "num_affected_rows",
         "type": "\"long\""
        },
        {
         "metadata": "{}",
         "name": "num_inserted_rows",
         "type": "\"long\""
        }
       ],
       "type": "table"
      }
     },
     "output_type": "display_data"
    }
   ],
   "source": [
    "%sql\n",
    "create\n",
    "or replace table d2d4\n",
    "select\n",
    "  d.*,\n",
    "  case\n",
    "    when datediff(promise_date, generation_date) < 4 then Delivery_Cut_Off_Temp\n",
    "    when Promise_Date is not null then Promise_Date\n",
    "    else Delivery_Cut_Off_Temp\n",
    "  end as Delivery_Cut_Off,\n",
    "  case\n",
    "    when promise_date is not null then promise_date\n",
    "    else case\n",
    "      when datediff(promise_date, generation_date) < 4 then Delivery_Cut_Off_Temp\n",
    "      when Promise_Date is not null then Promise_Date\n",
    "      else Delivery_Cut_Off_Temp\n",
    "    end\n",
    "  end as Customer_promise\n",
    "from\n",
    "  all_data as d"
   ]
  },
  {
   "cell_type": "code",
   "execution_count": 0,
   "metadata": {
    "application/vnd.databricks.v1+cell": {
     "cellMetadata": {
      "byteLimit": 2048000,
      "implicitDf": true,
      "rowLimit": 10000
     },
     "inputWidgets": {},
     "nuid": "ef5ea442-0f3a-4ba1-87f4-4ff631ce0718",
     "showTitle": false,
     "title": ""
    }
   },
   "outputs": [
    {
     "output_type": "display_data",
     "data": {
      "text/html": [
       "<style scoped>\n",
       "  .table-result-container {\n",
       "    max-height: 300px;\n",
       "    overflow: auto;\n",
       "  }\n",
       "  table, th, td {\n",
       "    border: 1px solid black;\n",
       "    border-collapse: collapse;\n",
       "  }\n",
       "  th, td {\n",
       "    padding: 5px;\n",
       "  }\n",
       "  th {\n",
       "    text-align: left;\n",
       "  }\n",
       "</style><div class='table-result-container'><table class='table-result'><thead style='background-color: white'><tr><th>Target_Despatch_Week</th><th>Generation_Date</th><th>Target_Despatch_Date</th><th>Parcel_Barcode</th><th>Parcel_airwaybill</th><th>Account_No</th><th>Order_Date</th><th>Promise_Date</th><th>Order_Type</th><th>Whse</th><th>MOD</th><th>Batch</th><th>Items_Despatched</th><th>Total_Items</th><th>Depot</th><th>Destination</th><th>Packing_Station</th><th>Warehouse_Despatch_Result</th><th>Despatch_Date</th><th>No_Stock_Date</th><th>Russia_Refused</th><th>Latest_Status_Description</th><th>Latest_Status_Date</th><th>Latest_Status_Time</th><th>Delivered_Description</th><th>Delivery_Date</th><th>Delivery_Time</th><th>Delivered_Code</th><th>Delivered_Sub_Code</th><th>FileDateTime</th><th>FileDateYear</th><th>FileDateDay</th><th>FileDateMonth</th><th>abc</th><th>Carrier</th><th>Warehouse_Type</th><th>client</th><th>warehouse_Fails</th><th>lookup</th><th>Days_Late_Next</th><th>SLA</th><th>POS_country</th><th>PythonPattern</th><th>Days_Late_Next_temp</th><th>PythonPatternNew</th><th>Target_despatch_date_temp</th><th>Busday</th><th>Delivery_Cut_Off_Temp</th><th>Delivery_Cut_Off</th><th>Customer_promise</th></tr></thead><tbody></tbody></table></div>"
      ]
     },
     "metadata": {
      "application/vnd.databricks.v1+output": {
       "addedWidgets": {},
       "aggData": [],
       "aggError": "",
       "aggOverflow": false,
       "aggSchema": [],
       "aggSeriesLimitReached": false,
       "aggType": "",
       "arguments": {},
       "columnCustomDisplayInfos": {},
       "data": [],
       "datasetInfos": [],
       "dbfsResultPath": null,
       "isJsonSchema": true,
       "metadata": {},
       "overflow": false,
       "plotOptions": {
        "customPlotOptions": {},
        "displayType": "table",
        "pivotAggregation": null,
        "pivotColumns": null,
        "xColumns": null,
        "yColumns": null
       },
       "removedWidgets": [],
       "schema": [
        {
         "metadata": "{}",
         "name": "Target_Despatch_Week",
         "type": "\"integer\""
        },
        {
         "metadata": "{}",
         "name": "Generation_Date",
         "type": "\"string\""
        },
        {
         "metadata": "{}",
         "name": "Target_Despatch_Date",
         "type": "\"string\""
        },
        {
         "metadata": "{}",
         "name": "Parcel_Barcode",
         "type": "\"string\""
        },
        {
         "metadata": "{}",
         "name": "Parcel_airwaybill",
         "type": "\"string\""
        },
        {
         "metadata": "{}",
         "name": "Account_No",
         "type": "\"string\""
        },
        {
         "metadata": "{}",
         "name": "Order_Date",
         "type": "\"string\""
        },
        {
         "metadata": "{}",
         "name": "Promise_Date",
         "type": "\"string\""
        },
        {
         "metadata": "{}",
         "name": "Order_Type",
         "type": "\"string\""
        },
        {
         "metadata": "{}",
         "name": "Whse",
         "type": "\"string\""
        },
        {
         "metadata": "{}",
         "name": "MOD",
         "type": "\"string\""
        },
        {
         "metadata": "{}",
         "name": "Batch",
         "type": "\"string\""
        },
        {
         "metadata": "{}",
         "name": "Items_Despatched",
         "type": "\"integer\""
        },
        {
         "metadata": "{}",
         "name": "Total_Items",
         "type": "\"integer\""
        },
        {
         "metadata": "{}",
         "name": "Depot",
         "type": "\"string\""
        },
        {
         "metadata": "{}",
         "name": "Destination",
         "type": "\"string\""
        },
        {
         "metadata": "{}",
         "name": "Packing_Station",
         "type": "\"string\""
        },
        {
         "metadata": "{}",
         "name": "Warehouse_Despatch_Result",
         "type": "\"string\""
        },
        {
         "metadata": "{}",
         "name": "Despatch_Date",
         "type": "\"string\""
        },
        {
         "metadata": "{}",
         "name": "No_Stock_Date",
         "type": "\"string\""
        },
        {
         "metadata": "{}",
         "name": "Russia_Refused",
         "type": "\"string\""
        },
        {
         "metadata": "{}",
         "name": "Latest_Status_Description",
         "type": "\"string\""
        },
        {
         "metadata": "{}",
         "name": "Latest_Status_Date",
         "type": "\"string\""
        },
        {
         "metadata": "{}",
         "name": "Latest_Status_Time",
         "type": "\"string\""
        },
        {
         "metadata": "{}",
         "name": "Delivered_Description",
         "type": "\"string\""
        },
        {
         "metadata": "{}",
         "name": "Delivery_Date",
         "type": "\"string\""
        },
        {
         "metadata": "{}",
         "name": "Delivery_Time",
         "type": "\"string\""
        },
        {
         "metadata": "{}",
         "name": "Delivered_Code",
         "type": "\"string\""
        },
        {
         "metadata": "{}",
         "name": "Delivered_Sub_Code",
         "type": "\"string\""
        },
        {
         "metadata": "{}",
         "name": "FileDateTime",
         "type": "\"timestamp\""
        },
        {
         "metadata": "{}",
         "name": "FileDateYear",
         "type": "\"integer\""
        },
        {
         "metadata": "{}",
         "name": "FileDateDay",
         "type": "\"integer\""
        },
        {
         "metadata": "{}",
         "name": "FileDateMonth",
         "type": "\"integer\""
        },
        {
         "metadata": "{}",
         "name": "abc",
         "type": "\"integer\""
        },
        {
         "metadata": "{}",
         "name": "Carrier",
         "type": "\"string\""
        },
        {
         "metadata": "{}",
         "name": "Warehouse_Type",
         "type": "\"string\""
        },
        {
         "metadata": "{}",
         "name": "client",
         "type": "\"string\""
        },
        {
         "metadata": "{}",
         "name": "warehouse_Fails",
         "type": "\"string\""
        },
        {
         "metadata": "{}",
         "name": "lookup",
         "type": "\"string\""
        },
        {
         "metadata": "{}",
         "name": "Days_Late_Next",
         "type": "\"string\""
        },
        {
         "metadata": "{}",
         "name": "SLA",
         "type": "\"string\""
        },
        {
         "metadata": "{}",
         "name": "POS_country",
         "type": "\"string\""
        },
        {
         "metadata": "{}",
         "name": "PythonPattern",
         "type": "\"string\""
        },
        {
         "metadata": "{}",
         "name": "Days_Late_Next_temp",
         "type": "\"string\""
        },
        {
         "metadata": "{}",
         "name": "PythonPatternNew",
         "type": "\"string\""
        },
        {
         "metadata": "{}",
         "name": "Target_despatch_date_temp",
         "type": "\"string\""
        },
        {
         "metadata": "{}",
         "name": "Busday",
         "type": "\"string\""
        },
        {
         "metadata": "{}",
         "name": "Delivery_Cut_Off_Temp",
         "type": "\"string\""
        },
        {
         "metadata": "{}",
         "name": "Delivery_Cut_Off",
         "type": "\"string\""
        },
        {
         "metadata": "{}",
         "name": "Customer_promise",
         "type": "\"string\""
        }
       ],
       "type": "table"
      }
     },
     "output_type": "display_data"
    }
   ],
   "source": [
    "%sql select * from d2d4 where parcel_barcode = '7050023761351062'"
   ]
  },
  {
   "cell_type": "code",
   "execution_count": 0,
   "metadata": {
    "application/vnd.databricks.v1+cell": {
     "cellMetadata": {
      "byteLimit": 2048000,
      "implicitDf": true,
      "rowLimit": 10000
     },
     "inputWidgets": {},
     "nuid": "92055e7e-9f33-4e07-abb6-90673b3bdf27",
     "showTitle": false,
     "title": ""
    }
   },
   "outputs": [
    {
     "output_type": "display_data",
     "data": {
      "text/html": [
       "<style scoped>\n",
       "  .table-result-container {\n",
       "    max-height: 300px;\n",
       "    overflow: auto;\n",
       "  }\n",
       "  table, th, td {\n",
       "    border: 1px solid black;\n",
       "    border-collapse: collapse;\n",
       "  }\n",
       "  th, td {\n",
       "    padding: 5px;\n",
       "  }\n",
       "  th {\n",
       "    text-align: left;\n",
       "  }\n",
       "</style><div class='table-result-container'><table class='table-result'><thead style='background-color: white'><tr><th>num_affected_rows</th><th>num_inserted_rows</th></tr></thead><tbody></tbody></table></div>"
      ]
     },
     "metadata": {
      "application/vnd.databricks.v1+output": {
       "addedWidgets": {},
       "aggData": [],
       "aggError": "",
       "aggOverflow": false,
       "aggSchema": [],
       "aggSeriesLimitReached": false,
       "aggType": "",
       "arguments": {},
       "columnCustomDisplayInfos": {},
       "data": [],
       "datasetInfos": [],
       "dbfsResultPath": null,
       "isJsonSchema": true,
       "metadata": {},
       "overflow": false,
       "plotOptions": {
        "customPlotOptions": {},
        "displayType": "table",
        "pivotAggregation": null,
        "pivotColumns": null,
        "xColumns": null,
        "yColumns": null
       },
       "removedWidgets": [],
       "schema": [
        {
         "metadata": "{}",
         "name": "num_affected_rows",
         "type": "\"long\""
        },
        {
         "metadata": "{}",
         "name": "num_inserted_rows",
         "type": "\"long\""
        }
       ],
       "type": "table"
      }
     },
     "output_type": "display_data"
    }
   ],
   "source": [
    "%sql\n",
    "create\n",
    "or replace table d2d5\n",
    "select\n",
    "  d.*,\n",
    "  case\n",
    "    when (delivery_date is not null and customer_promise is not null) and delivery_date <= Delivery_Cut_Off then 'Success'\n",
    "    when (delivery_date is not null and customer_promise is not null) and delivery_date > Delivery_Cut_Off then 'Fail'\n",
    "    when promise_date is not null\n",
    "    and delivery_date > promise_date then 'Fail'\n",
    "    when delivery_date is null then 'Fail'\n",
    "    else 'Success'\n",
    "  end as Customer_result,\n",
    "  case\n",
    "    when promise_date is null then Delivery_Cut_Off\n",
    "    when POS_Country = 'Yes' then promise_date\n",
    "    else Delivery_Cut_Off\n",
    "  end as Max_Delivery_date\n",
    "from\n",
    "  d2d4 as d"
   ]
  },
  {
   "cell_type": "code",
   "execution_count": 0,
   "metadata": {
    "application/vnd.databricks.v1+cell": {
     "cellMetadata": {
      "byteLimit": 2048000,
      "implicitDf": true,
      "rowLimit": 10000
     },
     "inputWidgets": {},
     "nuid": "6a50fcd6-d4ed-4545-97ef-951d936d2ea5",
     "showTitle": false,
     "title": ""
    }
   },
   "outputs": [
    {
     "output_type": "display_data",
     "data": {
      "text/html": [
       "<style scoped>\n",
       "  .table-result-container {\n",
       "    max-height: 300px;\n",
       "    overflow: auto;\n",
       "  }\n",
       "  table, th, td {\n",
       "    border: 1px solid black;\n",
       "    border-collapse: collapse;\n",
       "  }\n",
       "  th, td {\n",
       "    padding: 5px;\n",
       "  }\n",
       "  th {\n",
       "    text-align: left;\n",
       "  }\n",
       "</style><div class='table-result-container'><table class='table-result'><thead style='background-color: white'><tr><th>num_affected_rows</th><th>num_inserted_rows</th></tr></thead><tbody></tbody></table></div>"
      ]
     },
     "metadata": {
      "application/vnd.databricks.v1+output": {
       "addedWidgets": {},
       "aggData": [],
       "aggError": "",
       "aggOverflow": false,
       "aggSchema": [],
       "aggSeriesLimitReached": false,
       "aggType": "",
       "arguments": {},
       "columnCustomDisplayInfos": {},
       "data": [],
       "datasetInfos": [],
       "dbfsResultPath": null,
       "isJsonSchema": true,
       "metadata": {},
       "overflow": false,
       "plotOptions": {
        "customPlotOptions": {},
        "displayType": "table",
        "pivotAggregation": null,
        "pivotColumns": null,
        "xColumns": null,
        "yColumns": null
       },
       "removedWidgets": [],
       "schema": [
        {
         "metadata": "{}",
         "name": "num_affected_rows",
         "type": "\"long\""
        },
        {
         "metadata": "{}",
         "name": "num_inserted_rows",
         "type": "\"long\""
        }
       ],
       "type": "table"
      }
     },
     "output_type": "display_data"
    }
   ],
   "source": [
    "%sql\n",
    "create\n",
    "or replace table d2d6\n",
    "select\n",
    "  d.*,\n",
    "  case\n",
    "    when (\n",
    "      target_despatch_date is null\n",
    "      and delivery_date is not null\n",
    "    ) then 'Success'\n",
    "    when No_Stock_date != '-' then 'No Stock'\n",
    "    when delivery_date is not null and Delivery_Cut_Off is not null and delivery_date <= Delivery_Cut_Off then 'Success' --\n",
    "    when (\n",
    "      Customer_result = 'Fail'\n",
    "      and warehouse_fails = 'Success'\n",
    "    ) then 'Fail'\n",
    "    when case\n",
    "      when delivery_date is not null and Delivery_Cut_Off is not null and delivery_date > Delivery_Cut_Off then 'Fail'\n",
    "      when delivery_date is not null and Delivery_Cut_Off is not null and delivery_date <= Delivery_Cut_Off then 'Success'\n",
    "      else null\n",
    "    end is not null then case\n",
    "      when delivery_date is not null and Delivery_Cut_Off is not null and delivery_date > Delivery_Cut_Off then 'Fail'\n",
    "      when delivery_date is not null and Delivery_Cut_Off is not null and delivery_date <= Delivery_Cut_Off then 'Success'\n",
    "    end\n",
    "    else 'Fail'\n",
    "  end as carrier_result,\n",
    "  case\n",
    "    when datediff(customer_promise, generation_date) <= 3 then 'Fail'\n",
    "    when warehouse_fails = 'Success' then warehouse_fails\n",
    "    when warehouse_fails = 'No Stock' then warehouse_fails\n",
    "    when warehouse_fails = 'Fail'\n",
    "    and customer_result = 'Success' then 'Success'\n",
    "    else warehouse_fails\n",
    "  end as Next_Fails\n",
    "from\n",
    "  d2d5 as d"
   ]
  },
  {
   "cell_type": "code",
   "execution_count": 0,
   "metadata": {
    "application/vnd.databricks.v1+cell": {
     "cellMetadata": {
      "byteLimit": 2048000,
      "implicitDf": true,
      "rowLimit": 10000
     },
     "inputWidgets": {},
     "nuid": "821ac50a-1d69-4c8a-a4c6-0a3cf1bbc689",
     "showTitle": false,
     "title": ""
    }
   },
   "outputs": [
    {
     "output_type": "display_data",
     "data": {
      "text/html": [
       "<style scoped>\n",
       "  .table-result-container {\n",
       "    max-height: 300px;\n",
       "    overflow: auto;\n",
       "  }\n",
       "  table, th, td {\n",
       "    border: 1px solid black;\n",
       "    border-collapse: collapse;\n",
       "  }\n",
       "  th, td {\n",
       "    padding: 5px;\n",
       "  }\n",
       "  th {\n",
       "    text-align: left;\n",
       "  }\n",
       "</style><div class='table-result-container'><table class='table-result'><thead style='background-color: white'><tr><th>num_affected_rows</th><th>num_inserted_rows</th></tr></thead><tbody></tbody></table></div>"
      ]
     },
     "metadata": {
      "application/vnd.databricks.v1+output": {
       "addedWidgets": {},
       "aggData": [],
       "aggError": "",
       "aggOverflow": false,
       "aggSchema": [],
       "aggSeriesLimitReached": false,
       "aggType": "",
       "arguments": {},
       "columnCustomDisplayInfos": {},
       "data": [],
       "datasetInfos": [],
       "dbfsResultPath": null,
       "isJsonSchema": true,
       "metadata": {},
       "overflow": false,
       "plotOptions": {
        "customPlotOptions": {},
        "displayType": "table",
        "pivotAggregation": null,
        "pivotColumns": null,
        "xColumns": null,
        "yColumns": null
       },
       "removedWidgets": [],
       "schema": [
        {
         "metadata": "{}",
         "name": "num_affected_rows",
         "type": "\"long\""
        },
        {
         "metadata": "{}",
         "name": "num_inserted_rows",
         "type": "\"long\""
        }
       ],
       "type": "table"
      }
     },
     "output_type": "display_data"
    }
   ],
   "source": [
    "%sql\n",
    "create\n",
    "or replace table d2d7\n",
    "select\n",
    "  d.*,\n",
    "  case\n",
    "    when carrier_result = 'No Stock' then 'No Stock'\n",
    "    when Customer_result = 'Success' then '0'\n",
    "    when Customer_result = 'Fail'\n",
    "    and Delivery_date is null then 'Not Delivered'\n",
    "    when Customer_result = 'Fail'\n",
    "    and Delivery_date is not null then case\n",
    "      when Customer_result = 'Fail' then case\n",
    "        when datediff(delivery_date, customer_promise) < 0 then datediff(delivery_date, promise_date)\n",
    "        else datediff(delivery_date, customer_promise)\n",
    "      end\n",
    "      when Customer_result != 'Fail' then '0'\n",
    "    end\n",
    "  end as Days_late,\n",
    "  substring(d.parcel_barcode, 1, 5) as barcode_substring,\n",
    "  case\n",
    "    when Max_Delivery_date >= current_date() then 'Exclude'\n",
    "    else 'Include'\n",
    "  end as Due_for_delivery,\n",
    "  case\n",
    "    when carrier_result = 'No Stock' then carrier_result\n",
    "    when Customer_result = 'Success' then Customer_result\n",
    "    when Next_fails != 'Success' then 'Next Fail'\n",
    "    else 'Carrier Fail'\n",
    "  end as POT,\n",
    "  \n",
    "  \n",
    "  \n",
    "  case\n",
    "    when carrier_result = 'No Stock' then 'No Stock'\n",
    "    else case\n",
    "      when case\n",
    "        when carrier_result = 'Success' then 0\n",
    "        else array_max(\n",
    "          array(\n",
    "            datediff(delivery_date, delivery_cut_off),case\n",
    "              when promise_date is null then null\n",
    "              else datediff(delivery_date, delivery_cut_off)\n",
    "            end\n",
    "          )\n",
    "        )\n",
    "      end is null then 'Not Delivered'\n",
    "      else case\n",
    "        when carrier_result = 'Success' then 0\n",
    "        else array_max(\n",
    "          array(\n",
    "            datediff(delivery_date, delivery_cut_off),case\n",
    "              when promise_date is null then null\n",
    "              else datediff(delivery_date, delivery_cut_off)\n",
    "            end\n",
    "          )\n",
    "        )\n",
    "      end\n",
    "    end\n",
    "  end as Carrier_Days_Late,\n",
    "  Case\n",
    "when substring(pr.client_id,1,2) in ('RS') and Warehouse in ('S') then 'Reiss - PSS'\n",
    "when substring(pr.client_id,1,2) in ('VS') and Warehouse in ('S') then 'VS - PSS'\n",
    "when substring(pr.client_id,1,2) in ('RS') then 'Reiss'\n",
    "when substring(pr.client_id,1,2) in ('VS') then 'VS'\n",
    "when substring(pr.client_id,1,2) in ('GA') then 'GAP'\n",
    "when substring(pr.client_id,1,2) in ('CD','CP') then 'Childsplay'\n",
    "when substring(pr.client_id,1,2) in ('AN') then 'Aubin'\n",
    "when substring(pr.client_id,1,2) in ('LA') then 'Laura Ashley'\n",
    "else 'Next' end as client2\n",
    "\n",
    "\n",
    "\n",
    "from\n",
    "  d2d6 as d\n",
    "  left join warehouse.parcel_records as pr on pr.parcel_barcode = d.parcel_barcode and d.account_no = pr.account_no and pr.order_date = d.order_date"
   ]
  },
  {
   "cell_type": "code",
   "execution_count": 0,
   "metadata": {
    "application/vnd.databricks.v1+cell": {
     "cellMetadata": {
      "byteLimit": 2048000,
      "implicitDf": true,
      "rowLimit": 10000
     },
     "inputWidgets": {},
     "nuid": "f1d2c180-ace7-4eeb-bc5b-72ca913ec2f7",
     "showTitle": false,
     "title": ""
    }
   },
   "outputs": [
    {
     "output_type": "display_data",
     "data": {
      "text/html": [
       "<style scoped>\n",
       "  .table-result-container {\n",
       "    max-height: 300px;\n",
       "    overflow: auto;\n",
       "  }\n",
       "  table, th, td {\n",
       "    border: 1px solid black;\n",
       "    border-collapse: collapse;\n",
       "  }\n",
       "  th, td {\n",
       "    padding: 5px;\n",
       "  }\n",
       "  th {\n",
       "    text-align: left;\n",
       "  }\n",
       "</style><div class='table-result-container'><table class='table-result'><thead style='background-color: white'><tr><th>num_affected_rows</th><th>num_inserted_rows</th></tr></thead><tbody></tbody></table></div>"
      ]
     },
     "metadata": {
      "application/vnd.databricks.v1+output": {
       "addedWidgets": {},
       "aggData": [],
       "aggError": "",
       "aggOverflow": false,
       "aggSchema": [],
       "aggSeriesLimitReached": false,
       "aggType": "",
       "arguments": {},
       "columnCustomDisplayInfos": {},
       "data": [],
       "datasetInfos": [],
       "dbfsResultPath": null,
       "isJsonSchema": true,
       "metadata": {},
       "overflow": false,
       "plotOptions": {
        "customPlotOptions": {},
        "displayType": "table",
        "pivotAggregation": null,
        "pivotColumns": null,
        "xColumns": null,
        "yColumns": null
       },
       "removedWidgets": [],
       "schema": [
        {
         "metadata": "{}",
         "name": "num_affected_rows",
         "type": "\"long\""
        },
        {
         "metadata": "{}",
         "name": "num_inserted_rows",
         "type": "\"long\""
        }
       ],
       "type": "table"
      }
     },
     "output_type": "display_data"
    }
   ],
   "source": [
    "%sql\n",
    "create or replace table KPI_data\n",
    "\n",
    "select\n",
    "Target_Despatch_Week,\n",
    "date(Generation_Date) as Generation_Date,\n",
    "date(Target_Despatch_Date) as Target_Despatch_Date,\n",
    "Parcel_Barcode,\n",
    "Parcel_airwaybill,\n",
    "Account_No,\n",
    "date(Order_Date) as Order_Date,\n",
    "date(Promise_Date) as Promise_Date,\n",
    "Order_Type,\n",
    "Whse,\n",
    "MOD,\n",
    "Batch,\n",
    "Items_Despatched,\n",
    "Total_Items,\n",
    "Depot,\n",
    "Destination,\n",
    "Packing_Station,\n",
    "Warehouse_Despatch_Result,\n",
    "date(Despatch_Date) as Despatch_Date,\n",
    "date(No_Stock_Date) as No_Stock_Date,\n",
    "Russia_Refused,\n",
    "Latest_Status_Description,\n",
    "date(Latest_Status_Date) as Latest_Status_Date,\n",
    "Latest_Status_Time,\n",
    "Delivered_Description,\n",
    "date(Delivery_Date) as Delivery_Date,\n",
    "Delivery_Time,\n",
    "Delivered_Code,\n",
    "Delivered_Sub_Code,\n",
    "FileDateTime,\n",
    "FileDateYear,\n",
    "FileDateDay,\n",
    "FileDateMonth,\n",
    "Carrier,\n",
    "Lookup,\n",
    "Warehouse_Type,\n",
    "Warehouse_Fails,\n",
    "Days_Late_Next,\n",
    "Next_Fails,\n",
    "SLA,\n",
    "date(Customer_Promise) as Customer_Promise,\n",
    "date(Delivery_Cut_Off) as Delivery_Cut_Off,\n",
    "Carrier_Result,\n",
    "Carrier_Days_Late,\n",
    "Customer_Result,\n",
    "Days_Late,\n",
    "Barcode_Substring,\n",
    "'NA' as Russia_carrier,\n",
    "'NA' as Russia_Warehouse,\n",
    "date(Max_Delivery_Date) as Max_Delivery_Date,\n",
    "Due_for_Delivery,\n",
    "POS_Country,\n",
    "Pot,\n",
    "client2 as Client\n",
    "\n",
    "from d2d7\n",
    "\n",
    "\n",
    "order by parcel_barcode desc\n",
    "\n"
   ]
  },
  {
   "cell_type": "markdown",
   "metadata": {
    "application/vnd.databricks.v1+cell": {
     "cellMetadata": {
      "byteLimit": 2048000,
      "rowLimit": 10000
     },
     "inputWidgets": {},
     "nuid": "3009188f-a686-4466-8208-7e1a8e478665",
     "showTitle": false,
     "title": ""
    }
   },
   "source": [
    "#KPI Results"
   ]
  },
  {
   "cell_type": "code",
   "execution_count": 0,
   "metadata": {
    "application/vnd.databricks.v1+cell": {
     "cellMetadata": {
      "byteLimit": 2048000,
      "implicitDf": true,
      "rowLimit": 10000
     },
     "inputWidgets": {},
     "nuid": "c691fb56-f7b0-44d0-b87f-aba0aeb8f92e",
     "showTitle": false,
     "title": ""
    }
   },
   "outputs": [],
   "source": [
    "%sql\n",
    "--select * from KPI_data where year(Generation_Date) = 2023"
   ]
  },
  {
   "cell_type": "code",
   "execution_count": 0,
   "metadata": {
    "application/vnd.databricks.v1+cell": {
     "cellMetadata": {
      "byteLimit": 2048000,
      "rowLimit": 10000
     },
     "inputWidgets": {},
     "nuid": "017b4ed7-610e-4cad-997b-2e7c3a1cffae",
     "showTitle": false,
     "title": ""
    }
   },
   "outputs": [
    {
     "output_type": "stream",
     "name": "stderr",
     "output_type": "stream",
     "text": [
      "/databricks/spark/python/pyspark/sql/pandas/functions.py:396: UserWarning: In Python 3.6+ and Spark 3.0+, it is preferred to specify type hints for pandas UDF instead of specifying pandas UDF type which will be deprecated in the future releases. See SPARK-28264 for more details.\n  warnings.warn(\n"
     ]
    },
    {
     "output_type": "display_data",
     "data": {
      "text/html": [
       "<style scoped>\n",
       "  .ansiout {\n",
       "    display: block;\n",
       "    unicode-bidi: embed;\n",
       "    white-space: pre-wrap;\n",
       "    word-wrap: break-word;\n",
       "    word-break: break-all;\n",
       "    font-family: \"Source Code Pro\", \"Menlo\", monospace;;\n",
       "    font-size: 13px;\n",
       "    color: #555;\n",
       "    margin-left: 4px;\n",
       "    line-height: 19px;\n",
       "  }\n",
       "</style>"
      ]
     },
     "metadata": {
      "application/vnd.databricks.v1+output": {
       "arguments": {},
       "data": "",
       "errorSummary": "Cancelled",
       "errorTraceType": "html",
       "metadata": {},
       "type": "ipynbError"
      }
     },
     "output_type": "display_data"
    }
   ],
   "source": [
    "%python\n",
    "\n",
    "Days_To_Deliver = spark.sql(\"SELECT *  FROM d2d7 where sla is not null and PythonPattern is not null and Delivery_Date is not null\")\n",
    "Days_To_Deliver = Days_To_Deliver.to_koalas()\n",
    "\n",
    "Days_To_Deliver['Promise_Date'] = ks.to_datetime(Days_To_Deliver['Promise_Date'])\n",
    "Days_To_Deliver['Delivery_Date'] = ks.to_datetime(Days_To_Deliver['Delivery_Date'])\n",
    "Days_To_Deliver['Generation_Date'] = ks.to_datetime(Days_To_Deliver['Generation_Date'])\n",
    "Days_To_Deliver['Target_Despatch_Date'] = ks.to_datetime(Days_To_Deliver['Target_Despatch_Date'])\n",
    "Days_To_Deliver['Customer_promise'] = ks.to_datetime(Days_To_Deliver['Customer_promise'])\n",
    "\n",
    "Days_To_Deliver['TargetDespatch_Busday'] = Days_To_Deliver.apply(lambda row:   np.is_busday(row.Target_Despatch_Date.date(),weekmask = row.PythonPatternNew), axis =  1)\n",
    "Days_To_Deliver['DaysToDeliver_FromTargetDespatch'] = Days_To_Deliver.apply(lambda row:  np.busday_count(row.Target_Despatch_Date.date(), row.Delivery_Date.date(), weekmask = str(row.PythonPatternNew)) \\\n",
    "                                                                            if row.TargetDespatch_Busday == True \\\n",
    "                                                                            else  np.busday_count(row.Target_Despatch_Date.date(), row.Delivery_Date.date(), weekmask = str(row.PythonPatternNew)) + 1, axis=1)\n",
    "\n",
    "Days_To_Deliver['CustomerPromise_Busday'] = Days_To_Deliver.apply(lambda row:   np.is_busday(row.Customer_promise.date(),weekmask = row.PythonPatternNew), axis =  1)\n",
    "Days_To_Deliver['DaysToDeliver_FromPromise'] = Days_To_Deliver.apply(lambda row:  np.busday_count(row.Customer_promise.date(), row.Delivery_Date.date(), weekmask = str(row.PythonPatternNew)) if row.CustomerPromise_Busday == True else  np.busday_count(row.Customer_promise.date(), row.Delivery_Date.date(), weekmask = str(row.PythonPatternNew)) + 1, axis=1)\n",
    "\n",
    "Days_To_Deliver['TargetDespatch_Busday']=Days_To_Deliver['TargetDespatch_Busday'].astype(str)\n",
    "Days_To_Deliver['DaysToDeliver_FromTargetDespatch']=Days_To_Deliver['DaysToDeliver_FromTargetDespatch'].astype(str)\n",
    "\n",
    "Days_To_Deliver['CustomerPromise_Busday']=Days_To_Deliver['CustomerPromise_Busday'].astype(str)\n",
    "Days_To_Deliver['DaysToDeliver_FromPromise']=Days_To_Deliver['DaysToDeliver_FromPromise'].astype(str)\n"
   ]
  },
  {
   "cell_type": "code",
   "execution_count": 0,
   "metadata": {
    "application/vnd.databricks.v1+cell": {
     "cellMetadata": {
      "byteLimit": 2048000,
      "rowLimit": 10000
     },
     "inputWidgets": {},
     "nuid": "fa7a077a-443b-4513-9723-9462161ff626",
     "showTitle": false,
     "title": ""
    }
   },
   "outputs": [
    {
     "output_type": "display_data",
     "data": {
      "text/html": [
       "<style scoped>\n",
       "  .ansiout {\n",
       "    display: block;\n",
       "    unicode-bidi: embed;\n",
       "    white-space: pre-wrap;\n",
       "    word-wrap: break-word;\n",
       "    word-break: break-all;\n",
       "    font-family: \"Source Code Pro\", \"Menlo\", monospace;;\n",
       "    font-size: 13px;\n",
       "    color: #555;\n",
       "    margin-left: 4px;\n",
       "    line-height: 19px;\n",
       "  }\n",
       "</style>"
      ]
     },
     "metadata": {
      "application/vnd.databricks.v1+output": {
       "arguments": {},
       "data": "",
       "errorSummary": "Command skipped",
       "errorTraceType": "html",
       "metadata": {},
       "type": "ipynbError"
      }
     },
     "output_type": "display_data"
    }
   ],
   "source": [
    "%python\n",
    "def test(date1,date2,pattern):\n",
    "  return np.busday_count(datetime.strptime(date1, \"%Y-%m-%d\").date(), datetime.strptime(date2, \"%Y-%m-%d\").date(), weekmask = pattern)"
   ]
  },
  {
   "cell_type": "code",
   "execution_count": 0,
   "metadata": {
    "application/vnd.databricks.v1+cell": {
     "cellMetadata": {
      "byteLimit": 2048000,
      "rowLimit": 10000
     },
     "inputWidgets": {},
     "nuid": "8e9b74cb-2891-4b99-a6aa-ac751895fb77",
     "showTitle": false,
     "title": ""
    }
   },
   "outputs": [
    {
     "output_type": "display_data",
     "data": {
      "text/html": [
       "<style scoped>\n",
       "  .ansiout {\n",
       "    display: block;\n",
       "    unicode-bidi: embed;\n",
       "    white-space: pre-wrap;\n",
       "    word-wrap: break-word;\n",
       "    word-break: break-all;\n",
       "    font-family: \"Source Code Pro\", \"Menlo\", monospace;;\n",
       "    font-size: 13px;\n",
       "    color: #555;\n",
       "    margin-left: 4px;\n",
       "    line-height: 19px;\n",
       "  }\n",
       "</style>"
      ]
     },
     "metadata": {
      "application/vnd.databricks.v1+output": {
       "arguments": {},
       "data": "",
       "errorSummary": "Command skipped",
       "errorTraceType": "html",
       "metadata": {},
       "type": "ipynbError"
      }
     },
     "output_type": "display_data"
    }
   ],
   "source": [
    "%python\n",
    "print(test(\"2022-12-02\",\"2022-12-07\",\"1111100\"))"
   ]
  },
  {
   "cell_type": "code",
   "execution_count": 0,
   "metadata": {
    "application/vnd.databricks.v1+cell": {
     "cellMetadata": {
      "byteLimit": 2048000,
      "implicitDf": true,
      "rowLimit": 10000
     },
     "inputWidgets": {},
     "nuid": "d62aeb5c-6ef8-44c3-81a2-266ccc398172",
     "showTitle": false,
     "title": ""
    }
   },
   "outputs": [
    {
     "output_type": "display_data",
     "data": {
      "text/html": [
       "<style scoped>\n",
       "  .ansiout {\n",
       "    display: block;\n",
       "    unicode-bidi: embed;\n",
       "    white-space: pre-wrap;\n",
       "    word-wrap: break-word;\n",
       "    word-break: break-all;\n",
       "    font-family: \"Source Code Pro\", \"Menlo\", monospace;;\n",
       "    font-size: 13px;\n",
       "    color: #555;\n",
       "    margin-left: 4px;\n",
       "    line-height: 19px;\n",
       "  }\n",
       "</style>"
      ]
     },
     "metadata": {
      "application/vnd.databricks.v1+output": {
       "arguments": {},
       "data": "",
       "errorSummary": "Command skipped",
       "errorTraceType": "html",
       "metadata": {},
       "type": "ipynbError"
      }
     },
     "output_type": "display_data"
    }
   ],
   "source": [
    "%sql\n",
    "drop table Days_To_Deliver"
   ]
  },
  {
   "cell_type": "code",
   "execution_count": 0,
   "metadata": {
    "application/vnd.databricks.v1+cell": {
     "cellMetadata": {
      "byteLimit": 2048000,
      "rowLimit": 10000
     },
     "inputWidgets": {},
     "nuid": "bd3c23f8-a362-45d8-9be9-a2457b69fef7",
     "showTitle": false,
     "title": ""
    }
   },
   "outputs": [
    {
     "output_type": "display_data",
     "data": {
      "text/html": [
       "<style scoped>\n",
       "  .ansiout {\n",
       "    display: block;\n",
       "    unicode-bidi: embed;\n",
       "    white-space: pre-wrap;\n",
       "    word-wrap: break-word;\n",
       "    word-break: break-all;\n",
       "    font-family: \"Source Code Pro\", \"Menlo\", monospace;;\n",
       "    font-size: 13px;\n",
       "    color: #555;\n",
       "    margin-left: 4px;\n",
       "    line-height: 19px;\n",
       "  }\n",
       "</style>"
      ]
     },
     "metadata": {
      "application/vnd.databricks.v1+output": {
       "arguments": {},
       "data": "",
       "errorSummary": "Command skipped",
       "errorTraceType": "html",
       "metadata": {},
       "type": "ipynbError"
      }
     },
     "output_type": "display_data"
    }
   ],
   "source": [
    "%python \n",
    "\n",
    "Days_To_Deliver.to_table(name = 'Days_To_Deliver',mode = 'overwrite')"
   ]
  },
  {
   "cell_type": "code",
   "execution_count": 0,
   "metadata": {
    "application/vnd.databricks.v1+cell": {
     "cellMetadata": {
      "byteLimit": 2048000,
      "implicitDf": true,
      "rowLimit": 10000
     },
     "inputWidgets": {},
     "nuid": "8f081e86-b02e-465c-96be-87313987e968",
     "showTitle": false,
     "title": ""
    }
   },
   "outputs": [
    {
     "output_type": "display_data",
     "data": {
      "text/html": [
       "<style scoped>\n",
       "  .ansiout {\n",
       "    display: block;\n",
       "    unicode-bidi: embed;\n",
       "    white-space: pre-wrap;\n",
       "    word-wrap: break-word;\n",
       "    word-break: break-all;\n",
       "    font-family: \"Source Code Pro\", \"Menlo\", monospace;;\n",
       "    font-size: 13px;\n",
       "    color: #555;\n",
       "    margin-left: 4px;\n",
       "    line-height: 19px;\n",
       "  }\n",
       "</style>"
      ]
     },
     "metadata": {
      "application/vnd.databricks.v1+output": {
       "arguments": {},
       "data": "",
       "errorSummary": "Command skipped",
       "errorTraceType": "html",
       "metadata": {},
       "type": "ipynbError"
      }
     },
     "output_type": "display_data"
    }
   ],
   "source": [
    "%sql\n",
    "create or replace table Not_delievered\n",
    "\n",
    "SELECT \n",
    "*,\n",
    "'null SLA or Delivery Date' as TargetDespatch_Busday,\n",
    "'Not Delivered' as DaysToDeliver_FromTargetDespatch,\n",
    "'null SLA or Delivery Date' as CustomerPromise_Busday,\n",
    "'Not Delivered' as DaysToDeliver_FromPromise\n",
    "FROM d2d7 where sla is  null or PythonPattern is  null or Delivery_Date is  null"
   ]
  },
  {
   "cell_type": "code",
   "execution_count": 0,
   "metadata": {
    "application/vnd.databricks.v1+cell": {
     "cellMetadata": {
      "byteLimit": 2048000,
      "implicitDf": true,
      "rowLimit": 10000
     },
     "inputWidgets": {},
     "nuid": "03277422-4c92-487a-9ea6-ba1680acea15",
     "showTitle": false,
     "title": ""
    }
   },
   "outputs": [
    {
     "output_type": "display_data",
     "data": {
      "text/html": [
       "<style scoped>\n",
       "  .ansiout {\n",
       "    display: block;\n",
       "    unicode-bidi: embed;\n",
       "    white-space: pre-wrap;\n",
       "    word-wrap: break-word;\n",
       "    word-break: break-all;\n",
       "    font-family: \"Source Code Pro\", \"Menlo\", monospace;;\n",
       "    font-size: 13px;\n",
       "    color: #555;\n",
       "    margin-left: 4px;\n",
       "    line-height: 19px;\n",
       "  }\n",
       "</style>"
      ]
     },
     "metadata": {
      "application/vnd.databricks.v1+output": {
       "arguments": {},
       "data": "",
       "errorSummary": "Command skipped",
       "errorTraceType": "html",
       "metadata": {},
       "type": "ipynbError"
      }
     },
     "output_type": "display_data"
    }
   ],
   "source": [
    "%sql\n",
    "create or replace table D2D_Parcel_data\n",
    "\n",
    "select * from Not_delievered\n",
    "\n",
    "union all\n",
    "\n",
    "select * from Days_To_Deliver"
   ]
  },
  {
   "cell_type": "code",
   "execution_count": 0,
   "metadata": {
    "application/vnd.databricks.v1+cell": {
     "cellMetadata": {
      "byteLimit": 2048000,
      "implicitDf": true,
      "rowLimit": 10000
     },
     "inputWidgets": {},
     "nuid": "2f7230b3-fd45-4429-946a-c356afd2d80c",
     "showTitle": false,
     "title": ""
    }
   },
   "outputs": [
    {
     "output_type": "display_data",
     "data": {
      "text/html": [
       "<style scoped>\n",
       "  .ansiout {\n",
       "    display: block;\n",
       "    unicode-bidi: embed;\n",
       "    white-space: pre-wrap;\n",
       "    word-wrap: break-word;\n",
       "    word-break: break-all;\n",
       "    font-family: \"Source Code Pro\", \"Menlo\", monospace;;\n",
       "    font-size: 13px;\n",
       "    color: #555;\n",
       "    margin-left: 4px;\n",
       "    line-height: 19px;\n",
       "  }\n",
       "</style>"
      ]
     },
     "metadata": {
      "application/vnd.databricks.v1+output": {
       "arguments": {},
       "data": "",
       "errorSummary": "Command skipped",
       "errorTraceType": "html",
       "metadata": {},
       "type": "ipynbError"
      }
     },
     "output_type": "display_data"
    }
   ],
   "source": [
    "%sql\n",
    "select * from pre_pivot where customer_result = 'Success' and pot != 'Success'"
   ]
  },
  {
   "cell_type": "code",
   "execution_count": 0,
   "metadata": {
    "application/vnd.databricks.v1+cell": {
     "cellMetadata": {
      "byteLimit": 2048000,
      "implicitDf": true,
      "rowLimit": 10000
     },
     "inputWidgets": {},
     "nuid": "36e33bcb-c578-420d-8741-0f59b63979d7",
     "showTitle": false,
     "title": ""
    }
   },
   "outputs": [
    {
     "output_type": "display_data",
     "data": {
      "text/html": [
       "<style scoped>\n",
       "  .ansiout {\n",
       "    display: block;\n",
       "    unicode-bidi: embed;\n",
       "    white-space: pre-wrap;\n",
       "    word-wrap: break-word;\n",
       "    word-break: break-all;\n",
       "    font-family: \"Source Code Pro\", \"Menlo\", monospace;;\n",
       "    font-size: 13px;\n",
       "    color: #555;\n",
       "    margin-left: 4px;\n",
       "    line-height: 19px;\n",
       "  }\n",
       "</style>"
      ]
     },
     "metadata": {
      "application/vnd.databricks.v1+output": {
       "arguments": {},
       "data": "",
       "errorSummary": "Command skipped",
       "errorTraceType": "html",
       "metadata": {},
       "type": "ipynbError"
      }
     },
     "output_type": "display_data"
    }
   ],
   "source": [
    "%sql\n",
    "create or replace table pre_pivot\n",
    "\n",
    "select \n",
    "*,\n",
    "case \n",
    "when DaysToDeliver_FromTargetDespatch = 'Not Delivered' then POT\n",
    "when DaysToDeliver_FromTargetDespatch < '0' then '1'\n",
    "when DaysToDeliver_FromTargetDespatch = '0' then '1'\n",
    "when DaysToDeliver_FromTargetDespatch ='1' then '1'\n",
    "when DaysToDeliver_FromTargetDespatch ='2' then '2'\n",
    "when DaysToDeliver_FromTargetDespatch ='3' then '3'\n",
    "when DaysToDeliver_FromTargetDespatch ='4' then '4'\n",
    "when DaysToDeliver_FromTargetDespatch ='5' then '5'\n",
    "when DaysToDeliver_FromTargetDespatch ='6' then '6'\n",
    "when DaysToDeliver_FromTargetDespatch ='7' then '7'\n",
    "when DaysToDeliver_FromTargetDespatch ='8' then '8'\n",
    "when DaysToDeliver_FromTargetDespatch ='9' then '9'\n",
    "when DaysToDeliver_FromTargetDespatch ='10' then '10'\n",
    "when DaysToDeliver_FromTargetDespatch ='11' then '11'\n",
    "when DaysToDeliver_FromTargetDespatch ='12' then '12'\n",
    "when DaysToDeliver_FromTargetDespatch ='13' then '13'\n",
    "when DaysToDeliver_FromTargetDespatch ='14' then '14'\n",
    "when DaysToDeliver_FromTargetDespatch ='15' then '15'\n",
    "when DaysToDeliver_FromTargetDespatch >='16' then '16+' \n",
    "else DaysToDeliver_FromTargetDespatch end as NewDaysToDeliver_FromDTargetDespatch,\n",
    "\n",
    "case \n",
    "when DaysToDeliver_FromPromise = 'Not Delivered' then POT\n",
    "when DaysToDeliver_FromPromise < '0' then '1'\n",
    "when DaysToDeliver_FromPromise = '0' then '1'\n",
    "when DaysToDeliver_FromPromise ='1' then '1'\n",
    "when DaysToDeliver_FromPromise ='2' then '2'\n",
    "when DaysToDeliver_FromPromise ='3' then '3'\n",
    "when DaysToDeliver_FromPromise ='4' then '4'\n",
    "when DaysToDeliver_FromPromise ='5' then '5'\n",
    "when DaysToDeliver_FromPromise ='6' then '6'\n",
    "when DaysToDeliver_FromPromise ='7' then '7'\n",
    "when DaysToDeliver_FromPromise ='8' then '8'\n",
    "when DaysToDeliver_FromPromise ='9' then '9'\n",
    "when DaysToDeliver_FromPromise ='10' then '10'\n",
    "when DaysToDeliver_FromPromise ='11' then '11'\n",
    "when DaysToDeliver_FromPromise ='12' then '12'\n",
    "when DaysToDeliver_FromPromise ='13' then '13'\n",
    "when DaysToDeliver_FromPromise ='14' then '14'\n",
    "when DaysToDeliver_FromPromise ='15' then '15'\n",
    "when DaysToDeliver_FromPromise >='16' then '16+' \n",
    "else DaysToDeliver_FromPromise end as NewDaysToDeliver_FromPromise\n",
    "\n",
    "from D2D_Parcel_data"
   ]
  },
  {
   "cell_type": "code",
   "execution_count": 0,
   "metadata": {
    "application/vnd.databricks.v1+cell": {
     "cellMetadata": {
      "byteLimit": 2048000,
      "implicitDf": true,
      "rowLimit": 10000
     },
     "inputWidgets": {},
     "nuid": "c2ac9a9d-1e04-481b-b1bb-654941b08fae",
     "showTitle": false,
     "title": ""
    }
   },
   "outputs": [
    {
     "output_type": "display_data",
     "data": {
      "text/html": [
       "<style scoped>\n",
       "  .ansiout {\n",
       "    display: block;\n",
       "    unicode-bidi: embed;\n",
       "    white-space: pre-wrap;\n",
       "    word-wrap: break-word;\n",
       "    word-break: break-all;\n",
       "    font-family: \"Source Code Pro\", \"Menlo\", monospace;;\n",
       "    font-size: 13px;\n",
       "    color: #555;\n",
       "    margin-left: 4px;\n",
       "    line-height: 19px;\n",
       "  }\n",
       "</style>"
      ]
     },
     "metadata": {
      "application/vnd.databricks.v1+output": {
       "arguments": {},
       "data": "",
       "errorSummary": "Command skipped",
       "errorTraceType": "html",
       "metadata": {},
       "type": "ipynbError"
      }
     },
     "output_type": "display_data"
    }
   ],
   "source": [
    "%sql\n",
    "select distinct NewDaysToDeliver_FromDTargetDespatch from pre_pivot"
   ]
  },
  {
   "cell_type": "code",
   "execution_count": 0,
   "metadata": {
    "application/vnd.databricks.v1+cell": {
     "cellMetadata": {
      "byteLimit": 2048000,
      "implicitDf": true,
      "rowLimit": 10000
     },
     "inputWidgets": {},
     "nuid": "003f1dc2-7c11-4ad3-b55f-d07bf849fb01",
     "showTitle": false,
     "title": ""
    }
   },
   "outputs": [
    {
     "output_type": "display_data",
     "data": {
      "text/html": [
       "<style scoped>\n",
       "  .ansiout {\n",
       "    display: block;\n",
       "    unicode-bidi: embed;\n",
       "    white-space: pre-wrap;\n",
       "    word-wrap: break-word;\n",
       "    word-break: break-all;\n",
       "    font-family: \"Source Code Pro\", \"Menlo\", monospace;;\n",
       "    font-size: 13px;\n",
       "    color: #555;\n",
       "    margin-left: 4px;\n",
       "    line-height: 19px;\n",
       "  }\n",
       "</style>"
      ]
     },
     "metadata": {
      "application/vnd.databricks.v1+output": {
       "arguments": {},
       "data": "",
       "errorSummary": "Command skipped",
       "errorTraceType": "html",
       "metadata": {},
       "type": "ipynbError"
      }
     },
     "output_type": "display_data"
    }
   ],
   "source": [
    "%sql\n",
    "select * from pre_pivot where NewDaysToDeliver_FromDTargetDespatch = 'Success' and sla is not null"
   ]
  },
  {
   "cell_type": "code",
   "execution_count": 0,
   "metadata": {
    "application/vnd.databricks.v1+cell": {
     "cellMetadata": {
      "byteLimit": 2048000,
      "implicitDf": true,
      "rowLimit": 10000
     },
     "inputWidgets": {},
     "nuid": "9564f753-6259-4589-98da-49819d54a510",
     "showTitle": false,
     "title": ""
    }
   },
   "outputs": [
    {
     "output_type": "display_data",
     "data": {
      "text/html": [
       "<style scoped>\n",
       "  .ansiout {\n",
       "    display: block;\n",
       "    unicode-bidi: embed;\n",
       "    white-space: pre-wrap;\n",
       "    word-wrap: break-word;\n",
       "    word-break: break-all;\n",
       "    font-family: \"Source Code Pro\", \"Menlo\", monospace;;\n",
       "    font-size: 13px;\n",
       "    color: #555;\n",
       "    margin-left: 4px;\n",
       "    line-height: 19px;\n",
       "  }\n",
       "</style>"
      ]
     },
     "metadata": {
      "application/vnd.databricks.v1+output": {
       "arguments": {},
       "data": "",
       "errorSummary": "Command skipped",
       "errorTraceType": "html",
       "metadata": {},
       "type": "ipynbError"
      }
     },
     "output_type": "display_data"
    }
   ],
   "source": [
    "%sql\n",
    "select count(*) from d2d7"
   ]
  },
  {
   "cell_type": "code",
   "execution_count": 0,
   "metadata": {
    "application/vnd.databricks.v1+cell": {
     "cellMetadata": {
      "byteLimit": 2048000,
      "implicitDf": true,
      "rowLimit": 10000
     },
     "inputWidgets": {},
     "nuid": "58815f29-b03a-40d9-8d97-78b9084afd3b",
     "showTitle": false,
     "title": ""
    }
   },
   "outputs": [
    {
     "output_type": "display_data",
     "data": {
      "text/html": [
       "<style scoped>\n",
       "  .ansiout {\n",
       "    display: block;\n",
       "    unicode-bidi: embed;\n",
       "    white-space: pre-wrap;\n",
       "    word-wrap: break-word;\n",
       "    word-break: break-all;\n",
       "    font-family: \"Source Code Pro\", \"Menlo\", monospace;;\n",
       "    font-size: 13px;\n",
       "    color: #555;\n",
       "    margin-left: 4px;\n",
       "    line-height: 19px;\n",
       "  }\n",
       "</style>"
      ]
     },
     "metadata": {
      "application/vnd.databricks.v1+output": {
       "arguments": {},
       "data": "",
       "errorSummary": "Command skipped",
       "errorTraceType": "html",
       "metadata": {},
       "type": "ipynbError"
      }
     },
     "output_type": "display_data"
    }
   ],
   "source": [
    "%sql\n",
    "create or replace table D2D_Pivot\n",
    "\n",
    "SELECT \n",
    "Warehouse_Type,\n",
    "Due_for_Delivery,\n",
    "Client,\n",
    "initcap(country_desc) as country_desc,\n",
    "COALESCE(`1`, 0) as `1`,\n",
    "COALESCE(`2`, 0) as `2`,\n",
    "COALESCE(`3`, 0) as `3`,\n",
    "COALESCE(`4`, 0) as `4`,\n",
    "COALESCE(`5`, 0) as `5`,\n",
    "COALESCE(`6`, 0) as `6`,\n",
    "COALESCE(`7`, 0) as `7`,\n",
    "COALESCE(`8`, 0) as `8`,\n",
    "COALESCE(`9`, 0) as `9`,\n",
    "COALESCE(`10`, 0) as `10`,\n",
    "COALESCE(`11`, 0) as `11`,\n",
    "COALESCE(`12`, 0) as `12`,\n",
    "COALESCE(`13`, 0) as `13`,\n",
    "COALESCE(`14`, 0) as `14`,\n",
    "COALESCE(`15`, 0) as `15`,\n",
    "COALESCE(`16+`, 0) as `16+`,\n",
    "COALESCE(`Next Fail`, 0) as Next_Fail,\n",
    "COALESCE(`Carrier Fail`, 0) as  Carrier_Fail,\n",
    "COALESCE(`No Stock`, 0) as NoStock,\n",
    "COALESCE(`Next Fail`, 0) +\n",
    "COALESCE(`Carrier Fail`, 0) +\n",
    "COALESCE(`No Stock`, 0) as Total_Undelivered,\n",
    "\n",
    "\n",
    "\n",
    "COALESCE(`1`, 0) +\n",
    "COALESCE(`2`, 0) +\n",
    "COALESCE(`3`, 0) +\n",
    "COALESCE(`4`, 0) +\n",
    "COALESCE(`5`, 0) +\n",
    "COALESCE(`6`, 0) +\n",
    "COALESCE(`7`, 0) +\n",
    "COALESCE(`8`, 0) +\n",
    "COALESCE(`9`, 0) +\n",
    "COALESCE(`10`, 0) +\n",
    "COALESCE(`11`, 0) +\n",
    "COALESCE(`12`, 0) +\n",
    "COALESCE(`13`, 0) +\n",
    "COALESCE(`14`, 0) +\n",
    "COALESCE(`15`, 0) +\n",
    "COALESCE(`Next Fail`, 0) +\n",
    "COALESCE(`Carrier Fail`, 0) +\n",
    "COALESCE(`No Stock`, 0)  +\n",
    "COALESCE(`16+`, 0) as Total\n",
    "\n",
    "\n",
    "\n",
    "\n",
    "\n",
    "\n",
    "\n",
    "\n",
    "\n",
    "\n",
    "FROM \n",
    "\n",
    "(\n",
    "SELECT \n",
    "parcel_barcode, \n",
    "Due_for_Delivery,\n",
    "Warehouse_Type,\n",
    "Client,\n",
    "initcap(trim(dg.country_desc))  as country_desc,\n",
    "NewDaysToDeliver_FromDTargetDespatch\n",
    "\n",
    "FROM pre_pivot as pr\n",
    "left join next_dss.dg_country as dg on pr.Destination = dg.country_code\n",
    ")\n",
    "PIVOT (\n",
    "  count(Parcel_Barcode)\n",
    "FOR NewDaysToDeliver_FromDTargetDespatch in ('1',\n",
    "'2',\n",
    "'3',\n",
    "'4',\n",
    "'5',\n",
    "'6',\n",
    "'7',\n",
    "'8',\n",
    "'9',\n",
    "'10',\n",
    "'11',\n",
    "'12',\n",
    "'13',\n",
    "'14',\n",
    "'15',\n",
    "'16+',\n",
    "'Next Fail',\n",
    "'Carrier Fail',\n",
    "'No Stock'\n",
    "\n",
    "  ));\n"
   ]
  },
  {
   "cell_type": "code",
   "execution_count": 0,
   "metadata": {
    "application/vnd.databricks.v1+cell": {
     "cellMetadata": {
      "byteLimit": 2048000,
      "implicitDf": true,
      "rowLimit": 10000
     },
     "inputWidgets": {},
     "nuid": "dfd912a5-1b2c-4d49-afa9-3eaa09168ad4",
     "showTitle": false,
     "title": ""
    }
   },
   "outputs": [
    {
     "output_type": "display_data",
     "data": {
      "text/html": [
       "<style scoped>\n",
       "  .ansiout {\n",
       "    display: block;\n",
       "    unicode-bidi: embed;\n",
       "    white-space: pre-wrap;\n",
       "    word-wrap: break-word;\n",
       "    word-break: break-all;\n",
       "    font-family: \"Source Code Pro\", \"Menlo\", monospace;;\n",
       "    font-size: 13px;\n",
       "    color: #555;\n",
       "    margin-left: 4px;\n",
       "    line-height: 19px;\n",
       "  }\n",
       "</style>"
      ]
     },
     "metadata": {
      "application/vnd.databricks.v1+output": {
       "arguments": {},
       "data": "",
       "errorSummary": "Command skipped",
       "errorTraceType": "html",
       "metadata": {},
       "type": "ipynbError"
      }
     },
     "output_type": "display_data"
    }
   ],
   "source": [
    "%sql\n",
    "select * from D2D_Pivot"
   ]
  },
  {
   "cell_type": "code",
   "execution_count": 0,
   "metadata": {
    "application/vnd.databricks.v1+cell": {
     "cellMetadata": {
      "byteLimit": 2048000,
      "implicitDf": true,
      "rowLimit": 10000
     },
     "inputWidgets": {},
     "nuid": "56a7ccf4-a4c1-4cf4-8e3a-7bde2cf4c8ec",
     "showTitle": false,
     "title": ""
    }
   },
   "outputs": [
    {
     "output_type": "display_data",
     "data": {
      "text/html": [
       "<style scoped>\n",
       "  .ansiout {\n",
       "    display: block;\n",
       "    unicode-bidi: embed;\n",
       "    white-space: pre-wrap;\n",
       "    word-wrap: break-word;\n",
       "    word-break: break-all;\n",
       "    font-family: \"Source Code Pro\", \"Menlo\", monospace;;\n",
       "    font-size: 13px;\n",
       "    color: #555;\n",
       "    margin-left: 4px;\n",
       "    line-height: 19px;\n",
       "  }\n",
       "</style>"
      ]
     },
     "metadata": {
      "application/vnd.databricks.v1+output": {
       "arguments": {},
       "data": "",
       "errorSummary": "Command skipped",
       "errorTraceType": "html",
       "metadata": {},
       "type": "ipynbError"
      }
     },
     "output_type": "display_data"
    }
   ],
   "source": [
    "%sql\n",
    "select * from D2D_Pivot where country_desc is not null and Due_for_Delivery = 'Include' and client = 'Reiss' order by total desc"
   ]
  },
  {
   "cell_type": "code",
   "execution_count": 0,
   "metadata": {
    "application/vnd.databricks.v1+cell": {
     "cellMetadata": {
      "byteLimit": 2048000,
      "implicitDf": true,
      "rowLimit": 10000
     },
     "inputWidgets": {},
     "nuid": "40214f98-743c-44c5-98ac-851c63bb89f3",
     "showTitle": false,
     "title": ""
    }
   },
   "outputs": [
    {
     "output_type": "display_data",
     "data": {
      "text/html": [
       "<style scoped>\n",
       "  .ansiout {\n",
       "    display: block;\n",
       "    unicode-bidi: embed;\n",
       "    white-space: pre-wrap;\n",
       "    word-wrap: break-word;\n",
       "    word-break: break-all;\n",
       "    font-family: \"Source Code Pro\", \"Menlo\", monospace;;\n",
       "    font-size: 13px;\n",
       "    color: #555;\n",
       "    margin-left: 4px;\n",
       "    line-height: 19px;\n",
       "  }\n",
       "</style>"
      ]
     },
     "metadata": {
      "application/vnd.databricks.v1+output": {
       "arguments": {},
       "data": "",
       "errorSummary": "Command skipped",
       "errorTraceType": "html",
       "metadata": {},
       "type": "ipynbError"
      }
     },
     "output_type": "display_data"
    }
   ],
   "source": [
    "%sql\n",
    "select * from D2D_Pivot where country_desc is not null and Due_for_Delivery = 'Include' and client = 'Next' and Warehouse_Type = 'UK' order by total desc"
   ]
  },
  {
   "cell_type": "code",
   "execution_count": 0,
   "metadata": {
    "application/vnd.databricks.v1+cell": {
     "cellMetadata": {
      "byteLimit": 2048000,
      "implicitDf": true,
      "rowLimit": 10000
     },
     "inputWidgets": {},
     "nuid": "a5373e75-bd28-4593-9cd2-206c32c629c2",
     "showTitle": false,
     "title": ""
    }
   },
   "outputs": [
    {
     "output_type": "display_data",
     "data": {
      "text/html": [
       "<style scoped>\n",
       "  .ansiout {\n",
       "    display: block;\n",
       "    unicode-bidi: embed;\n",
       "    white-space: pre-wrap;\n",
       "    word-wrap: break-word;\n",
       "    word-break: break-all;\n",
       "    font-family: \"Source Code Pro\", \"Menlo\", monospace;;\n",
       "    font-size: 13px;\n",
       "    color: #555;\n",
       "    margin-left: 4px;\n",
       "    line-height: 19px;\n",
       "  }\n",
       "</style>"
      ]
     },
     "metadata": {
      "application/vnd.databricks.v1+output": {
       "arguments": {},
       "data": "",
       "errorSummary": "Command skipped",
       "errorTraceType": "html",
       "metadata": {},
       "type": "ipynbError"
      }
     },
     "output_type": "display_data"
    }
   ],
   "source": [
    "%sql\n",
    "select * from D2D_Pivot where country_desc is not null and Due_for_Delivery = 'Include' and client = 'GAP' order by total desc"
   ]
  },
  {
   "cell_type": "code",
   "execution_count": 0,
   "metadata": {
    "application/vnd.databricks.v1+cell": {
     "cellMetadata": {
      "byteLimit": 2048000,
      "implicitDf": true,
      "rowLimit": 10000
     },
     "inputWidgets": {},
     "nuid": "e3efb7e9-0505-4da0-8a7e-fc34593f97f6",
     "showTitle": false,
     "title": ""
    }
   },
   "outputs": [
    {
     "output_type": "display_data",
     "data": {
      "text/html": [
       "<style scoped>\n",
       "  .ansiout {\n",
       "    display: block;\n",
       "    unicode-bidi: embed;\n",
       "    white-space: pre-wrap;\n",
       "    word-wrap: break-word;\n",
       "    word-break: break-all;\n",
       "    font-family: \"Source Code Pro\", \"Menlo\", monospace;;\n",
       "    font-size: 13px;\n",
       "    color: #555;\n",
       "    margin-left: 4px;\n",
       "    line-height: 19px;\n",
       "  }\n",
       "</style>"
      ]
     },
     "metadata": {
      "application/vnd.databricks.v1+output": {
       "arguments": {},
       "data": "",
       "errorSummary": "Command skipped",
       "errorTraceType": "html",
       "metadata": {},
       "type": "ipynbError"
      }
     },
     "output_type": "display_data"
    }
   ],
   "source": [
    "%sql\n",
    "select * from D2D_Pivot where country_desc is not null and Due_for_Delivery = 'Include' and client = 'Childsplay' order by total desc"
   ]
  },
  {
   "cell_type": "code",
   "execution_count": 0,
   "metadata": {
    "application/vnd.databricks.v1+cell": {
     "cellMetadata": {
      "byteLimit": 2048000,
      "implicitDf": true,
      "rowLimit": 10000
     },
     "inputWidgets": {},
     "nuid": "4f00e7b0-6164-45bf-ba4c-95dc0fe44d04",
     "showTitle": false,
     "title": ""
    }
   },
   "outputs": [
    {
     "output_type": "display_data",
     "data": {
      "text/html": [
       "<style scoped>\n",
       "  .ansiout {\n",
       "    display: block;\n",
       "    unicode-bidi: embed;\n",
       "    white-space: pre-wrap;\n",
       "    word-wrap: break-word;\n",
       "    word-break: break-all;\n",
       "    font-family: \"Source Code Pro\", \"Menlo\", monospace;;\n",
       "    font-size: 13px;\n",
       "    color: #555;\n",
       "    margin-left: 4px;\n",
       "    line-height: 19px;\n",
       "  }\n",
       "</style>"
      ]
     },
     "metadata": {
      "application/vnd.databricks.v1+output": {
       "arguments": {},
       "data": "",
       "errorSummary": "Command skipped",
       "errorTraceType": "html",
       "metadata": {},
       "type": "ipynbError"
      }
     },
     "output_type": "display_data"
    }
   ],
   "source": [
    "%sql\n",
    "select * from D2D_Pivot where country_desc is not null and Due_for_Delivery = 'Include' and client = 'Aubin' order by total desc"
   ]
  },
  {
   "cell_type": "code",
   "execution_count": 0,
   "metadata": {
    "application/vnd.databricks.v1+cell": {
     "cellMetadata": {
      "byteLimit": 2048000,
      "implicitDf": true,
      "rowLimit": 10000
     },
     "inputWidgets": {},
     "nuid": "d8a897d0-f52b-44d6-a16c-479d870f2f87",
     "showTitle": false,
     "title": ""
    }
   },
   "outputs": [
    {
     "output_type": "display_data",
     "data": {
      "text/html": [
       "<style scoped>\n",
       "  .ansiout {\n",
       "    display: block;\n",
       "    unicode-bidi: embed;\n",
       "    white-space: pre-wrap;\n",
       "    word-wrap: break-word;\n",
       "    word-break: break-all;\n",
       "    font-family: \"Source Code Pro\", \"Menlo\", monospace;;\n",
       "    font-size: 13px;\n",
       "    color: #555;\n",
       "    margin-left: 4px;\n",
       "    line-height: 19px;\n",
       "  }\n",
       "</style>"
      ]
     },
     "metadata": {
      "application/vnd.databricks.v1+output": {
       "arguments": {},
       "data": "",
       "errorSummary": "Command skipped",
       "errorTraceType": "html",
       "metadata": {},
       "type": "ipynbError"
      }
     },
     "output_type": "display_data"
    }
   ],
   "source": [
    "%sql\n",
    "select * from D2D_Pivot where country_desc is not null and Due_for_Delivery = 'Include' and client = 'Laura Ashley' order by total desc"
   ]
  },
  {
   "cell_type": "code",
   "execution_count": 0,
   "metadata": {
    "application/vnd.databricks.v1+cell": {
     "cellMetadata": {
      "byteLimit": 2048000,
      "implicitDf": true,
      "rowLimit": 10000
     },
     "inputWidgets": {},
     "nuid": "0676aee3-ad3c-47c7-a3dd-bdf2bc8d64e1",
     "showTitle": false,
     "title": ""
    }
   },
   "outputs": [
    {
     "output_type": "display_data",
     "data": {
      "text/html": [
       "<style scoped>\n",
       "  .ansiout {\n",
       "    display: block;\n",
       "    unicode-bidi: embed;\n",
       "    white-space: pre-wrap;\n",
       "    word-wrap: break-word;\n",
       "    word-break: break-all;\n",
       "    font-family: \"Source Code Pro\", \"Menlo\", monospace;;\n",
       "    font-size: 13px;\n",
       "    color: #555;\n",
       "    margin-left: 4px;\n",
       "    line-height: 19px;\n",
       "  }\n",
       "</style>"
      ]
     },
     "metadata": {
      "application/vnd.databricks.v1+output": {
       "arguments": {},
       "data": "",
       "errorSummary": "Command skipped",
       "errorTraceType": "html",
       "metadata": {},
       "type": "ipynbError"
      }
     },
     "output_type": "display_data"
    }
   ],
   "source": [
    "%sql\n",
    "select * from D2D_Pivot where country_desc is not null and Due_for_Delivery = 'Include' and client = 'VS' order by total desc"
   ]
  },
  {
   "cell_type": "code",
   "execution_count": 0,
   "metadata": {
    "application/vnd.databricks.v1+cell": {
     "cellMetadata": {
      "byteLimit": 2048000,
      "implicitDf": true,
      "rowLimit": 10000
     },
     "inputWidgets": {},
     "nuid": "86b6104b-766a-4369-91c0-52f470156a88",
     "showTitle": false,
     "title": ""
    }
   },
   "outputs": [
    {
     "output_type": "display_data",
     "data": {
      "text/html": [
       "<style scoped>\n",
       "  .ansiout {\n",
       "    display: block;\n",
       "    unicode-bidi: embed;\n",
       "    white-space: pre-wrap;\n",
       "    word-wrap: break-word;\n",
       "    word-break: break-all;\n",
       "    font-family: \"Source Code Pro\", \"Menlo\", monospace;;\n",
       "    font-size: 13px;\n",
       "    color: #555;\n",
       "    margin-left: 4px;\n",
       "    line-height: 19px;\n",
       "  }\n",
       "</style>"
      ]
     },
     "metadata": {
      "application/vnd.databricks.v1+output": {
       "arguments": {},
       "data": "",
       "errorSummary": "Command skipped",
       "errorTraceType": "html",
       "metadata": {},
       "type": "ipynbError"
      }
     },
     "output_type": "display_data"
    }
   ],
   "source": [
    "%sql\n",
    "select * from D2D_Pivot where country_desc is not null and Due_for_Delivery = 'Include' and client = 'VS - PSS' order by total desc"
   ]
  },
  {
   "cell_type": "code",
   "execution_count": 0,
   "metadata": {
    "application/vnd.databricks.v1+cell": {
     "cellMetadata": {
      "byteLimit": 2048000,
      "implicitDf": true,
      "rowLimit": 10000
     },
     "inputWidgets": {},
     "nuid": "270bd233-c2cc-4930-b79d-ee01fa764e88",
     "showTitle": false,
     "title": ""
    }
   },
   "outputs": [
    {
     "output_type": "display_data",
     "data": {
      "text/html": [
       "<style scoped>\n",
       "  .ansiout {\n",
       "    display: block;\n",
       "    unicode-bidi: embed;\n",
       "    white-space: pre-wrap;\n",
       "    word-wrap: break-word;\n",
       "    word-break: break-all;\n",
       "    font-family: \"Source Code Pro\", \"Menlo\", monospace;;\n",
       "    font-size: 13px;\n",
       "    color: #555;\n",
       "    margin-left: 4px;\n",
       "    line-height: 19px;\n",
       "  }\n",
       "</style>"
      ]
     },
     "metadata": {
      "application/vnd.databricks.v1+output": {
       "arguments": {},
       "data": "",
       "errorSummary": "Command skipped",
       "errorTraceType": "html",
       "metadata": {},
       "type": "ipynbError"
      }
     },
     "output_type": "display_data"
    }
   ],
   "source": [
    "%sql\n",
    "select * from D2D_Pivot where country_desc is not null and Due_for_Delivery = 'Include' and client = 'Reiss - PSS' order by total desc"
   ]
  },
  {
   "cell_type": "code",
   "execution_count": 0,
   "metadata": {
    "application/vnd.databricks.v1+cell": {
     "cellMetadata": {
      "byteLimit": 2048000,
      "implicitDf": true,
      "rowLimit": 10000
     },
     "inputWidgets": {},
     "nuid": "c5ffa814-ca00-4616-b013-03419d19e449",
     "showTitle": false,
     "title": ""
    }
   },
   "outputs": [
    {
     "output_type": "display_data",
     "data": {
      "text/html": [
       "<style scoped>\n",
       "  .ansiout {\n",
       "    display: block;\n",
       "    unicode-bidi: embed;\n",
       "    white-space: pre-wrap;\n",
       "    word-wrap: break-word;\n",
       "    word-break: break-all;\n",
       "    font-family: \"Source Code Pro\", \"Menlo\", monospace;;\n",
       "    font-size: 13px;\n",
       "    color: #555;\n",
       "    margin-left: 4px;\n",
       "    line-height: 19px;\n",
       "  }\n",
       "</style>"
      ]
     },
     "metadata": {
      "application/vnd.databricks.v1+output": {
       "arguments": {},
       "data": "",
       "errorSummary": "Command skipped",
       "errorTraceType": "html",
       "metadata": {},
       "type": "ipynbError"
      }
     },
     "output_type": "display_data"
    }
   ],
   "source": [
    "%sql\n",
    "select \n",
    "Due_for_Delivery,\n",
    "country_desc,\n",
    "sum(`1`) as `1`,sum(`2`) as `2`,sum(`3`) as `3`,sum(`4`) as `4`,sum(`5`) as `5`,sum(`6`) as `6`,sum(`7`) as `7`,sum(`8`) as `8`,sum(`9`) as `9`,sum(`10`) as `10`,sum(`11`) as `11`,sum(`12`) as `12`,sum(`13`) as `13`,sum(`14`) as `14`,sum(`15`) as `15`,sum(`16+`) as `16+`,\n",
    "sum(Next_Fail) as Next_Fail,\n",
    "sum(Carrier_Fail) as Carrier_Fail,\n",
    "sum(nostock) as NoStock,\n",
    "sum(undelivered) as undelivered,\n",
    "sum(total) as Total\n",
    "\n",
    "from d2d_pivot where country_desc is not null and Due_for_Delivery = 'Include' \n",
    "\n",
    "group by\n",
    "\n",
    "Due_for_Delivery,\n",
    "country_desc\n",
    "\n",
    "\n",
    "order by total desc"
   ]
  }
 ],
 "metadata": {
  "application/vnd.databricks.v1+notebook": {
   "dashboards": [],
   "language": "python",
   "notebookMetadata": {
    "mostRecentlyExecutedCommandWithImplicitDF": {
     "commandId": -1,
     "dataframes": [
      "_sqldf"
     ]
    },
    "pythonIndentUnit": 4
   },
   "notebookName": "Days To Deliver & KPI Results",
   "widgets": {}
  }
 },
 "nbformat": 4,
 "nbformat_minor": 0
}
